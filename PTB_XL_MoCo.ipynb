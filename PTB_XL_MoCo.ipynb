{
 "cells": [
  {
   "cell_type": "markdown",
   "metadata": {},
   "source": [
    "# Imports"
   ]
  },
  {
   "cell_type": "code",
   "execution_count": 1,
   "metadata": {},
   "outputs": [
    {
     "name": "stderr",
     "output_type": "stream",
     "text": [
      "2024-05-25 17:07:35.580271: I tensorflow/core/platform/cpu_feature_guard.cc:193] This TensorFlow binary is optimized with oneAPI Deep Neural Network Library (oneDNN) to use the following CPU instructions in performance-critical operations:  AVX2 FMA\n",
      "To enable them in other operations, rebuild TensorFlow with the appropriate compiler flags.\n",
      "2024-05-25 17:07:36.049201: W tensorflow/compiler/xla/stream_executor/platform/default/dso_loader.cc:64] Could not load dynamic library 'libnvinfer.so.7'; dlerror: libnvinfer.so.7: cannot open shared object file: No such file or directory\n",
      "2024-05-25 17:07:36.049260: W tensorflow/compiler/xla/stream_executor/platform/default/dso_loader.cc:64] Could not load dynamic library 'libnvinfer_plugin.so.7'; dlerror: libnvinfer_plugin.so.7: cannot open shared object file: No such file or directory\n",
      "2024-05-25 17:07:36.049267: W tensorflow/compiler/tf2tensorrt/utils/py_utils.cc:38] TF-TRT Warning: Cannot dlopen some TensorRT libraries. If you would like to use Nvidia GPU with TensorRT, please make sure the missing libraries mentioned above are installed properly.\n"
     ]
    }
   ],
   "source": [
    "import random\n",
    "import sys\n",
    "\n",
    "import importlib\n",
    "import numpy as np\n",
    "import tensorflow as tf\n",
    "from tensorflow import keras\n",
    "from tensorflow.keras import layers, models, metrics\n",
    "\n",
    "import data_visualisation as dv\n",
    "import data_augmentation as da\n",
    "import models.resnet as resnet"
   ]
  },
  {
   "cell_type": "markdown",
   "metadata": {},
   "source": [
    "# Load Dataset"
   ]
  },
  {
   "cell_type": "code",
   "execution_count": 2,
   "metadata": {},
   "outputs": [],
   "source": [
    "# load data\n",
    "thismodule = sys.modules[__name__]\n",
    "\n",
    "with np.load('data/PTB_XL_HB_1s_window.npz', allow_pickle=True) as data:\n",
    "    for k in data.keys():\n",
    "        if 'text' in k:\n",
    "            setattr(thismodule, k, data[k])\n",
    "        else:\n",
    "            setattr(thismodule, k, data[k].astype(float))"
   ]
  },
  {
   "cell_type": "markdown",
   "metadata": {},
   "source": [
    "# Data Augmentation + Pair Generation"
   ]
  },
  {
   "cell_type": "code",
   "execution_count": 3,
   "metadata": {},
   "outputs": [],
   "source": [
    "def mask_ecg(ecg, mask_ratio=0.1):\n",
    "    block_size = 20\n",
    "    \n",
    "    for lead in range(ecg.shape[1]):\n",
    "        for i in range(0, ecg.shape[0], block_size):\n",
    "            if random.random() < mask_ratio:\n",
    "                ecg[i:i+block_size, lead] = 0\n",
    "    return ecg\n",
    "\n",
    "def mask_lead(ecg, mask_ratio=0.1):\n",
    "\n",
    "    for lead in range(ecg.shape[1]):\n",
    "        if random.random() < mask_ratio:\n",
    "            ecg[:, lead] = 0\n",
    "    return ecg"
   ]
  },
  {
   "cell_type": "code",
   "execution_count": 4,
   "metadata": {},
   "outputs": [],
   "source": [
    "def augment_ecg_signal(signal):\n",
    "    drifted_signal, _ = da.add_random_baseline_drift(signal, strength_range=(1.5,2.5), drift_wavelength_range=(300,500))\n",
    "    noised_drifted_signal = da.add_random_noise(drifted_signal, (0, 0.2))\n",
    "    # res = mask_ecg(noised_drifted_signal, mask_ratio=0.1) if random.random() < 0.5 else mask_lead(noised_drifted_signal, mask_ratio=0.2)\n",
    "    res = noised_drifted_signal\n",
    "    return res\n",
    "\n",
    "def generate_augmented_pairs(batch):\n",
    "    augmented_batch_1 = np.array([augment_ecg_signal(x) for x in batch])\n",
    "    augmented_batch_2 = np.array([augment_ecg_signal(x) for x in batch])\n",
    "    return augmented_batch_1, augmented_batch_2\n",
    "\n",
    "def augment_ecg_signal_batch(signals, labels, batch_size):\n",
    "    while True:\n",
    "        \n",
    "        indices = np.random.randint(0, signals.shape[0], size=batch_size)\n",
    "        batch = signals[indices]\n",
    "        batch_labels = labels[indices]\n",
    "        \n",
    "        augmented_batch = np.array([augment_ecg_signal(sample) for sample in batch])\n",
    "        \n",
    "        yield (augmented_batch, batch_labels)"
   ]
  },
  {
   "cell_type": "markdown",
   "metadata": {},
   "source": [
    "# NT-Xent Loss"
   ]
  },
  {
   "cell_type": "code",
   "execution_count": 5,
   "metadata": {},
   "outputs": [],
   "source": [
    "def nt_xent_loss(x, temperature):\n",
    "    # cosine similarity\n",
    "    x_norm = tf.math.l2_normalize(x, axis=1)\n",
    "    x_cos_sim = tf.matmul(x_norm, x_norm, transpose_b=True)\n",
    "    \n",
    "    # mask with -inf on diagonal\n",
    "    mask = tf.eye(x.shape[0], dtype=tf.bool)\n",
    "    x_cos_sim = tf.where(mask, -np.inf, x_cos_sim)  \n",
    "    \n",
    "    # set targets\n",
    "    samples = x.shape[0]\n",
    "    target = tf.range(samples)\n",
    "    target = tf.concat([target[samples//2:], target[:samples//2]], axis=0)\n",
    "    # target = tf.range(samples)\n",
    "    # target = tf.where(target % 2 == 0, target + 1, target - 1)\n",
    "    \n",
    "    # temperature scaling\n",
    "    x_cos_sim /= temperature\n",
    "    \n",
    "    # loss\n",
    "    loss = tf.nn.sparse_softmax_cross_entropy_with_logits(logits=x_cos_sim, labels=target)\n",
    "    loss = tf.reduce_mean(loss)\n",
    "    \n",
    "    return loss"
   ]
  },
  {
   "cell_type": "markdown",
   "metadata": {},
   "source": [
    "# MoCo class"
   ]
  },
  {
   "cell_type": "code",
   "execution_count": 13,
   "metadata": {},
   "outputs": [],
   "source": [
    "# Define the MoCo Queue\n",
    "class MoCo:\n",
    "    def __init__(self, input_shape, projection_dim, queue_size=65536, temperature=0.1):\n",
    "        self.projection_dim = projection_dim\n",
    "        self.queue_size = queue_size\n",
    "        self.temperature = temperature\n",
    "        self.queue_ptr = 0\n",
    "\n",
    "        # Initialize the feature extractor and projection head\n",
    "        self.model = self.create_model(input_shape)\n",
    "\n",
    "        # Initialize the queue\n",
    "        self.queue = tf.random.normal([queue_size, projection_dim])\n",
    "\n",
    "    def enqueue(self, features):\n",
    "        batch_size = features.shape[0]\n",
    "        replace_indices = tf.range(self.queue_ptr, self.queue_ptr + batch_size) % self.queue_size\n",
    "        self.queue = tf.tensor_scatter_nd_update(self.queue, tf.expand_dims(replace_indices, 1), features)\n",
    "        self.queue_ptr = (self.queue_ptr + batch_size) % self.queue_size\n",
    "\n",
    "    def dequeue(self):\n",
    "        return self.queue\n",
    "    \n",
    "    def _dequeue_and_enqueue(self, keys):\n",
    "        keys = concat_all_gather(keys)\n",
    "        batch_size = tf.shape(keys)[0]\n",
    "\n",
    "        ptr = int(self.queue_ptr)\n",
    "        assert self.K % batch_size == 0  # for simplicity\n",
    "\n",
    "        # replace the keys at ptr (dequeue and enqueue)\n",
    "        self.queue[:, ptr:ptr + batch_size].assign(tf.transpose(keys))\n",
    "        ptr = (ptr + batch_size) % self.K  # move pointer\n",
    "\n",
    "        self.queue_ptr.assign(ptr)\n",
    "    \n",
    "    def projection_head(self, X):\n",
    "        X = keras.layers.Dense(self.projection_dim, activation='relu', name='dense_proj_1')(X)\n",
    "        X = keras.layers.Dense(self.projection_dim, name='dense_proj_2')(X)\n",
    "        return X\n",
    "    \n",
    "    def create_model(self, input_shape):\n",
    "        X_input = keras.Input(input_shape)\n",
    "        _, fe = resnet.model(X_input, num_classes=5, filters = [16, 16], kernels = [5, 3], layers=10, hidden_units=128)\n",
    "        out = self.projection_head(fe)\n",
    "        return keras.Model(inputs=X_input, outputs=out)\n",
    "    \n",
    "    def nt_xent_loss(self, queries, keys):\n",
    "        logits = tf.matmul(queries, keys, transpose_b=True) / self.temperature\n",
    "        batch_size = tf.shape(logits)[0]\n",
    "        labels = tf.range(batch_size)\n",
    "        loss = tf.nn.sparse_softmax_cross_entropy_with_logits(logits=logits, labels=labels)\n",
    "        return tf.reduce_mean(loss)\n",
    "\n",
    "    @tf.function\n",
    "    def training_step(self, batch, optimizer):\n",
    "        with tf.GradientTape() as tape:\n",
    "            queries = self.model(batch[0], training=True)\n",
    "            keys = self.model(batch[1], training=True)\n",
    "\n",
    "            # Normalize\n",
    "            queries = tf.math.l2_normalize(queries, axis=1)\n",
    "            keys = tf.math.l2_normalize(keys, axis=1)\n",
    "\n",
    "            # Get queue keys\n",
    "            queue_keys = self.dequeue()\n",
    "\n",
    "            # Compute loss\n",
    "            all_keys = tf.concat([keys, queue_keys], axis=0)\n",
    "            loss = self.nt_xent_loss(queries, all_keys)\n",
    "\n",
    "        gradients = tape.gradient(loss, self.model.trainable_variables)\n",
    "        optimizer.apply_gradients(zip(gradients, self.model.trainable_variables))\n",
    "\n",
    "        # Update queue\n",
    "        self.enqueue(keys)\n",
    "\n",
    "        return loss\n",
    "    \n",
    "    def train(self, dataset, optimizer, epochs, steps_per_epoch):\n",
    "        for epoch in range(epochs):\n",
    "            for step, batch in enumerate(dataset):\n",
    "                loss = self.training_step(batch, optimizer)\n",
    "                if step % 100 == 0:\n",
    "                    print(f\"Epoch {epoch+1}, Step {step}/{steps_per_epoch}, Loss: {loss.numpy()}\")"
   ]
  },
  {
   "cell_type": "markdown",
   "metadata": {},
   "source": [
    "# Training"
   ]
  },
  {
   "cell_type": "code",
   "execution_count": 8,
   "metadata": {},
   "outputs": [],
   "source": [
    "# ecg_dataset = tf.data.Dataset.from_tensor_slices(X_train)\n",
    "# ecg_dataset = ecg_dataset.shuffle(buffer_size=1024).batch(32)\n",
    "\n",
    "dataset = tf.data.Dataset.from_tensor_slices(X_train).batch(32)\n",
    "augmented_dataset = dataset.map(lambda x: tf.py_function(generate_augmented_pairs, [x], [tf.float32, tf.float32])).prefetch(tf.data.AUTOTUNE)"
   ]
  },
  {
   "cell_type": "code",
   "execution_count": 9,
   "metadata": {},
   "outputs": [],
   "source": [
    "input_shape = X_train.shape[1:]\n",
    "projection_dim = 128\n",
    "temperature = 0.1\n",
    "queue_size = 65536\n",
    "batch_size = 32\n",
    "epochs = 10\n",
    "steps_per_epoch = 1000"
   ]
  },
  {
   "cell_type": "code",
   "execution_count": 14,
   "metadata": {},
   "outputs": [],
   "source": [
    "moco = MoCo(input_shape, projection_dim, queue_size, temperature)\n"
   ]
  },
  {
   "cell_type": "code",
   "execution_count": 15,
   "metadata": {},
   "outputs": [
    {
     "ename": "TypeError",
     "evalue": "<tf.Tensor 'TensorScatterUpdate:0' shape=(65536, 128) dtype=float32> is out of scope and cannot be used here. Use return values, explicit Python locals or TensorFlow collections to access it.\nPlease see https://www.tensorflow.org/guide/function#all_outputs_of_a_tffunction_must_be_return_values for more information.\n\n<tf.Tensor 'TensorScatterUpdate:0' shape=(65536, 128) dtype=float32> was defined here:\n    File \"/home/raaif/anaconda3/envs/FYP/lib/python3.9/runpy.py\", line 197, in _run_module_as_main\n      return _run_code(code, main_globals, None,\n    File \"/home/raaif/anaconda3/envs/FYP/lib/python3.9/runpy.py\", line 87, in _run_code\n      exec(code, run_globals)\n    File \"/home/raaif/anaconda3/envs/FYP/lib/python3.9/site-packages/ipykernel_launcher.py\", line 18, in <module>\n      app.launch_new_instance()\n    File \"/home/raaif/anaconda3/envs/FYP/lib/python3.9/site-packages/traitlets/config/application.py\", line 1075, in launch_instance\n      app.start()\n    File \"/home/raaif/anaconda3/envs/FYP/lib/python3.9/site-packages/ipykernel/kernelapp.py\", line 739, in start\n      self.io_loop.start()\n    File \"/home/raaif/anaconda3/envs/FYP/lib/python3.9/site-packages/tornado/platform/asyncio.py\", line 205, in start\n      self.asyncio_loop.run_forever()\n    File \"/home/raaif/anaconda3/envs/FYP/lib/python3.9/asyncio/base_events.py\", line 601, in run_forever\n      self._run_once()\n    File \"/home/raaif/anaconda3/envs/FYP/lib/python3.9/asyncio/base_events.py\", line 1905, in _run_once\n      handle._run()\n    File \"/home/raaif/anaconda3/envs/FYP/lib/python3.9/asyncio/events.py\", line 80, in _run\n      self._context.run(self._callback, *self._args)\n    File \"/home/raaif/anaconda3/envs/FYP/lib/python3.9/site-packages/ipykernel/kernelbase.py\", line 545, in dispatch_queue\n      await self.process_one()\n    File \"/home/raaif/anaconda3/envs/FYP/lib/python3.9/site-packages/ipykernel/kernelbase.py\", line 534, in process_one\n      await dispatch(*args)\n    File \"/home/raaif/anaconda3/envs/FYP/lib/python3.9/site-packages/ipykernel/kernelbase.py\", line 437, in dispatch_shell\n      await result\n    File \"/home/raaif/anaconda3/envs/FYP/lib/python3.9/site-packages/ipykernel/ipkernel.py\", line 359, in execute_request\n      await super().execute_request(stream, ident, parent)\n    File \"/home/raaif/anaconda3/envs/FYP/lib/python3.9/site-packages/ipykernel/kernelbase.py\", line 778, in execute_request\n      reply_content = await reply_content\n    File \"/home/raaif/anaconda3/envs/FYP/lib/python3.9/site-packages/ipykernel/ipkernel.py\", line 446, in do_execute\n      res = shell.run_cell(\n    File \"/home/raaif/anaconda3/envs/FYP/lib/python3.9/site-packages/ipykernel/zmqshell.py\", line 549, in run_cell\n      return super().run_cell(*args, **kwargs)\n    File \"/home/raaif/anaconda3/envs/FYP/lib/python3.9/site-packages/IPython/core/interactiveshell.py\", line 3048, in run_cell\n      result = self._run_cell(\n    File \"/home/raaif/anaconda3/envs/FYP/lib/python3.9/site-packages/IPython/core/interactiveshell.py\", line 3103, in _run_cell\n      result = runner(coro)\n    File \"/home/raaif/anaconda3/envs/FYP/lib/python3.9/site-packages/IPython/core/async_helpers.py\", line 129, in _pseudo_sync_runner\n      coro.send(None)\n    File \"/home/raaif/anaconda3/envs/FYP/lib/python3.9/site-packages/IPython/core/interactiveshell.py\", line 3308, in run_cell_async\n      has_raised = await self.run_ast_nodes(code_ast.body, cell_name,\n    File \"/home/raaif/anaconda3/envs/FYP/lib/python3.9/site-packages/IPython/core/interactiveshell.py\", line 3490, in run_ast_nodes\n      if await self.run_code(code, result, async_=asy):\n    File \"/home/raaif/anaconda3/envs/FYP/lib/python3.9/site-packages/IPython/core/interactiveshell.py\", line 3550, in run_code\n      exec(code_obj, self.user_global_ns, self.user_ns)\n    File \"/tmp/ipykernel_22211/4228252922.py\", line 2, in <module>\n      moco.train(augmented_dataset, optim, epochs, steps_per_epoch)\n    File \"/tmp/ipykernel_22211/1281425041.py\", line 71, in train\n      loss = self.training_step(batch, optimizer)\n    File \"/home/raaif/anaconda3/envs/FYP/lib/python3.9/site-packages/tensorflow/python/util/traceback_utils.py\", line 150, in error_handler\n      return fn(*args, **kwargs)\n    File \"/home/raaif/anaconda3/envs/FYP/lib/python3.9/site-packages/tensorflow/python/eager/polymorphic_function/polymorphic_function.py\", line 880, in __call__\n      result = self._call(*args, **kwds)\n    File \"/home/raaif/anaconda3/envs/FYP/lib/python3.9/site-packages/tensorflow/python/eager/polymorphic_function/polymorphic_function.py\", line 928, in _call\n      self._initialize(args, kwds, add_initializers_to=initializers)\n    File \"/home/raaif/anaconda3/envs/FYP/lib/python3.9/site-packages/tensorflow/python/eager/polymorphic_function/polymorphic_function.py\", line 749, in _initialize\n      self._variable_creation_fn    # pylint: disable=protected-access\n    File \"/home/raaif/anaconda3/envs/FYP/lib/python3.9/site-packages/tensorflow/python/eager/polymorphic_function/tracing_compiler.py\", line 162, in _get_concrete_function_internal_garbage_collected\n      concrete_function, _ = self._maybe_define_concrete_function(args, kwargs)\n    File \"/home/raaif/anaconda3/envs/FYP/lib/python3.9/site-packages/tensorflow/python/eager/polymorphic_function/tracing_compiler.py\", line 157, in _maybe_define_concrete_function\n      return self._maybe_define_function(args, kwargs)\n    File \"/home/raaif/anaconda3/envs/FYP/lib/python3.9/site-packages/tensorflow/python/eager/polymorphic_function/tracing_compiler.py\", line 360, in _maybe_define_function\n      concrete_function = self._create_concrete_function(args, kwargs)\n    File \"/home/raaif/anaconda3/envs/FYP/lib/python3.9/site-packages/tensorflow/python/eager/polymorphic_function/tracing_compiler.py\", line 284, in _create_concrete_function\n      func_graph_module.func_graph_from_py_func(\n    File \"/home/raaif/anaconda3/envs/FYP/lib/python3.9/site-packages/tensorflow/python/framework/func_graph.py\", line 1283, in func_graph_from_py_func\n      func_outputs = python_func(*func_args, **func_kwargs)\n    File \"/home/raaif/anaconda3/envs/FYP/lib/python3.9/site-packages/tensorflow/python/eager/polymorphic_function/polymorphic_function.py\", line 645, in wrapped_fn\n      out = weak_wrapped_fn().__wrapped__(*args, **kwds)\n    File \"/home/raaif/anaconda3/envs/FYP/lib/python3.9/site-packages/tensorflow/python/eager/polymorphic_function/tracing_compiler.py\", line 445, in bound_method_wrapper\n      return wrapped_fn(*args, **kwargs)\n    File \"/home/raaif/anaconda3/envs/FYP/lib/python3.9/site-packages/tensorflow/python/framework/func_graph.py\", line 1258, in autograph_handler\n      return autograph.converted_call(\n    File \"/tmp/ipykernel_22211/1281425041.py\", line 64, in training_step\n      self.enqueue(keys)\n    File \"/home/raaif/anaconda3/envs/FYP/lib/python3.9/site-packages/tensorflow/python/util/traceback_utils.py\", line 150, in error_handler\n      return fn(*args, **kwargs)\n    File \"/home/raaif/anaconda3/envs/FYP/lib/python3.9/site-packages/tensorflow/python/eager/polymorphic_function/polymorphic_function.py\", line 880, in __call__\n      result = self._call(*args, **kwds)\n    File \"/home/raaif/anaconda3/envs/FYP/lib/python3.9/site-packages/tensorflow/python/eager/polymorphic_function/polymorphic_function.py\", line 928, in _call\n      self._initialize(args, kwds, add_initializers_to=initializers)\n    File \"/home/raaif/anaconda3/envs/FYP/lib/python3.9/site-packages/tensorflow/python/eager/polymorphic_function/polymorphic_function.py\", line 749, in _initialize\n      self._variable_creation_fn    # pylint: disable=protected-access\n    File \"/home/raaif/anaconda3/envs/FYP/lib/python3.9/site-packages/tensorflow/python/eager/polymorphic_function/tracing_compiler.py\", line 162, in _get_concrete_function_internal_garbage_collected\n      concrete_function, _ = self._maybe_define_concrete_function(args, kwargs)\n    File \"/home/raaif/anaconda3/envs/FYP/lib/python3.9/site-packages/tensorflow/python/eager/polymorphic_function/tracing_compiler.py\", line 157, in _maybe_define_concrete_function\n      return self._maybe_define_function(args, kwargs)\n    File \"/home/raaif/anaconda3/envs/FYP/lib/python3.9/site-packages/tensorflow/python/eager/polymorphic_function/tracing_compiler.py\", line 360, in _maybe_define_function\n      concrete_function = self._create_concrete_function(args, kwargs)\n    File \"/home/raaif/anaconda3/envs/FYP/lib/python3.9/site-packages/tensorflow/python/eager/polymorphic_function/tracing_compiler.py\", line 284, in _create_concrete_function\n      func_graph_module.func_graph_from_py_func(\n    File \"/home/raaif/anaconda3/envs/FYP/lib/python3.9/site-packages/tensorflow/python/framework/func_graph.py\", line 1283, in func_graph_from_py_func\n      func_outputs = python_func(*func_args, **func_kwargs)\n    File \"/home/raaif/anaconda3/envs/FYP/lib/python3.9/site-packages/tensorflow/python/eager/polymorphic_function/polymorphic_function.py\", line 645, in wrapped_fn\n      out = weak_wrapped_fn().__wrapped__(*args, **kwds)\n    File \"/home/raaif/anaconda3/envs/FYP/lib/python3.9/site-packages/tensorflow/python/eager/polymorphic_function/tracing_compiler.py\", line 445, in bound_method_wrapper\n      return wrapped_fn(*args, **kwargs)\n    File \"/home/raaif/anaconda3/envs/FYP/lib/python3.9/site-packages/tensorflow/python/framework/func_graph.py\", line 1258, in autograph_handler\n      return autograph.converted_call(\n    File \"/tmp/ipykernel_22211/1281425041.py\", line 19, in enqueue\n      self.queue = tf.tensor_scatter_nd_update(self.queue, tf.expand_dims(replace_indices, 1), features)\n    File \"/home/raaif/anaconda3/envs/FYP/lib/python3.9/site-packages/tensorflow/python/util/traceback_utils.py\", line 150, in error_handler\n      return fn(*args, **kwargs)\n    File \"/home/raaif/anaconda3/envs/FYP/lib/python3.9/site-packages/tensorflow/python/util/dispatch.py\", line 1176, in op_dispatch_handler\n      return dispatch_target(*args, **kwargs)\n    File \"/home/raaif/anaconda3/envs/FYP/lib/python3.9/site-packages/tensorflow/python/ops/array_ops.py\", line 6100, in tensor_scatter_nd_update\n      return gen_array_ops.tensor_scatter_update(\n    File \"/home/raaif/anaconda3/envs/FYP/lib/python3.9/site-packages/tensorflow/python/ops/gen_array_ops.py\", line 11527, in tensor_scatter_update\n      _, _, _op, _outputs = _op_def_library._apply_op_helper(\n    File \"/home/raaif/anaconda3/envs/FYP/lib/python3.9/site-packages/tensorflow/python/framework/op_def_library.py\", line 795, in _apply_op_helper\n      op = g._create_op_internal(op_type_name, inputs, dtypes=None,\n    File \"/home/raaif/anaconda3/envs/FYP/lib/python3.9/site-packages/tensorflow/python/framework/func_graph.py\", line 749, in _create_op_internal\n      return super(FuncGraph, self)._create_op_internal(  # pylint: disable=protected-access\n    File \"/home/raaif/anaconda3/envs/FYP/lib/python3.9/site-packages/tensorflow/python/framework/ops.py\", line 3798, in _create_op_internal\n      ret = Operation(\n\nThe tensor <tf.Tensor 'TensorScatterUpdate:0' shape=(65536, 128) dtype=float32> cannot be accessed from here, because it was defined in FuncGraph(name=enqueue, id=128257392638992), which is out of scope.",
     "output_type": "error",
     "traceback": [
      "\u001b[0;31m---------------------------------------------------------------------------\u001b[0m",
      "\u001b[0;31mTypeError\u001b[0m                                 Traceback (most recent call last)",
      "Cell \u001b[0;32mIn[15], line 2\u001b[0m\n\u001b[1;32m      1\u001b[0m optim \u001b[38;5;241m=\u001b[39m keras\u001b[38;5;241m.\u001b[39moptimizers\u001b[38;5;241m.\u001b[39mAdam(learning_rate\u001b[38;5;241m=\u001b[39m\u001b[38;5;241m0.0001\u001b[39m)\n\u001b[0;32m----> 2\u001b[0m \u001b[43mmoco\u001b[49m\u001b[38;5;241;43m.\u001b[39;49m\u001b[43mtrain\u001b[49m\u001b[43m(\u001b[49m\u001b[43maugmented_dataset\u001b[49m\u001b[43m,\u001b[49m\u001b[43m \u001b[49m\u001b[43moptim\u001b[49m\u001b[43m,\u001b[49m\u001b[43m \u001b[49m\u001b[43mepochs\u001b[49m\u001b[43m,\u001b[49m\u001b[43m \u001b[49m\u001b[43msteps_per_epoch\u001b[49m\u001b[43m)\u001b[49m\n",
      "Cell \u001b[0;32mIn[13], line 71\u001b[0m, in \u001b[0;36mMoCo.train\u001b[0;34m(self, dataset, optimizer, epochs, steps_per_epoch)\u001b[0m\n\u001b[1;32m     69\u001b[0m \u001b[38;5;28;01mfor\u001b[39;00m epoch \u001b[38;5;129;01min\u001b[39;00m \u001b[38;5;28mrange\u001b[39m(epochs):\n\u001b[1;32m     70\u001b[0m     \u001b[38;5;28;01mfor\u001b[39;00m step, batch \u001b[38;5;129;01min\u001b[39;00m \u001b[38;5;28menumerate\u001b[39m(dataset):\n\u001b[0;32m---> 71\u001b[0m         loss \u001b[38;5;241m=\u001b[39m \u001b[38;5;28;43mself\u001b[39;49m\u001b[38;5;241;43m.\u001b[39;49m\u001b[43mtraining_step\u001b[49m\u001b[43m(\u001b[49m\u001b[43mbatch\u001b[49m\u001b[43m,\u001b[49m\u001b[43m \u001b[49m\u001b[43moptimizer\u001b[49m\u001b[43m)\u001b[49m\n\u001b[1;32m     72\u001b[0m         \u001b[38;5;28;01mif\u001b[39;00m step \u001b[38;5;241m%\u001b[39m \u001b[38;5;241m100\u001b[39m \u001b[38;5;241m==\u001b[39m \u001b[38;5;241m0\u001b[39m:\n\u001b[1;32m     73\u001b[0m             \u001b[38;5;28mprint\u001b[39m(\u001b[38;5;124mf\u001b[39m\u001b[38;5;124m\"\u001b[39m\u001b[38;5;124mEpoch \u001b[39m\u001b[38;5;132;01m{\u001b[39;00mepoch\u001b[38;5;241m+\u001b[39m\u001b[38;5;241m1\u001b[39m\u001b[38;5;132;01m}\u001b[39;00m\u001b[38;5;124m, Step \u001b[39m\u001b[38;5;132;01m{\u001b[39;00mstep\u001b[38;5;132;01m}\u001b[39;00m\u001b[38;5;124m/\u001b[39m\u001b[38;5;132;01m{\u001b[39;00msteps_per_epoch\u001b[38;5;132;01m}\u001b[39;00m\u001b[38;5;124m, Loss: \u001b[39m\u001b[38;5;132;01m{\u001b[39;00mloss\u001b[38;5;241m.\u001b[39mnumpy()\u001b[38;5;132;01m}\u001b[39;00m\u001b[38;5;124m\"\u001b[39m)\n",
      "File \u001b[0;32m~/anaconda3/envs/FYP/lib/python3.9/site-packages/tensorflow/python/util/traceback_utils.py:153\u001b[0m, in \u001b[0;36mfilter_traceback.<locals>.error_handler\u001b[0;34m(*args, **kwargs)\u001b[0m\n\u001b[1;32m    151\u001b[0m \u001b[38;5;28;01mexcept\u001b[39;00m \u001b[38;5;167;01mException\u001b[39;00m \u001b[38;5;28;01mas\u001b[39;00m e:\n\u001b[1;32m    152\u001b[0m   filtered_tb \u001b[38;5;241m=\u001b[39m _process_traceback_frames(e\u001b[38;5;241m.\u001b[39m__traceback__)\n\u001b[0;32m--> 153\u001b[0m   \u001b[38;5;28;01mraise\u001b[39;00m e\u001b[38;5;241m.\u001b[39mwith_traceback(filtered_tb) \u001b[38;5;28;01mfrom\u001b[39;00m \u001b[38;5;28;01mNone\u001b[39;00m\n\u001b[1;32m    154\u001b[0m \u001b[38;5;28;01mfinally\u001b[39;00m:\n\u001b[1;32m    155\u001b[0m   \u001b[38;5;28;01mdel\u001b[39;00m filtered_tb\n",
      "File \u001b[0;32m~/anaconda3/envs/FYP/lib/python3.9/site-packages/tensorflow/python/eager/execute.py:52\u001b[0m, in \u001b[0;36mquick_execute\u001b[0;34m(op_name, num_outputs, inputs, attrs, ctx, name)\u001b[0m\n\u001b[1;32m     50\u001b[0m \u001b[38;5;28;01mtry\u001b[39;00m:\n\u001b[1;32m     51\u001b[0m   ctx\u001b[38;5;241m.\u001b[39mensure_initialized()\n\u001b[0;32m---> 52\u001b[0m   tensors \u001b[38;5;241m=\u001b[39m pywrap_tfe\u001b[38;5;241m.\u001b[39mTFE_Py_Execute(ctx\u001b[38;5;241m.\u001b[39m_handle, device_name, op_name,\n\u001b[1;32m     53\u001b[0m                                       inputs, attrs, num_outputs)\n\u001b[1;32m     54\u001b[0m \u001b[38;5;28;01mexcept\u001b[39;00m core\u001b[38;5;241m.\u001b[39m_NotOkStatusException \u001b[38;5;28;01mas\u001b[39;00m e:\n\u001b[1;32m     55\u001b[0m   \u001b[38;5;28;01mif\u001b[39;00m name \u001b[38;5;129;01mis\u001b[39;00m \u001b[38;5;129;01mnot\u001b[39;00m \u001b[38;5;28;01mNone\u001b[39;00m:\n",
      "\u001b[0;31mTypeError\u001b[0m: <tf.Tensor 'TensorScatterUpdate:0' shape=(65536, 128) dtype=float32> is out of scope and cannot be used here. Use return values, explicit Python locals or TensorFlow collections to access it.\nPlease see https://www.tensorflow.org/guide/function#all_outputs_of_a_tffunction_must_be_return_values for more information.\n\n<tf.Tensor 'TensorScatterUpdate:0' shape=(65536, 128) dtype=float32> was defined here:\n    File \"/home/raaif/anaconda3/envs/FYP/lib/python3.9/runpy.py\", line 197, in _run_module_as_main\n      return _run_code(code, main_globals, None,\n    File \"/home/raaif/anaconda3/envs/FYP/lib/python3.9/runpy.py\", line 87, in _run_code\n      exec(code, run_globals)\n    File \"/home/raaif/anaconda3/envs/FYP/lib/python3.9/site-packages/ipykernel_launcher.py\", line 18, in <module>\n      app.launch_new_instance()\n    File \"/home/raaif/anaconda3/envs/FYP/lib/python3.9/site-packages/traitlets/config/application.py\", line 1075, in launch_instance\n      app.start()\n    File \"/home/raaif/anaconda3/envs/FYP/lib/python3.9/site-packages/ipykernel/kernelapp.py\", line 739, in start\n      self.io_loop.start()\n    File \"/home/raaif/anaconda3/envs/FYP/lib/python3.9/site-packages/tornado/platform/asyncio.py\", line 205, in start\n      self.asyncio_loop.run_forever()\n    File \"/home/raaif/anaconda3/envs/FYP/lib/python3.9/asyncio/base_events.py\", line 601, in run_forever\n      self._run_once()\n    File \"/home/raaif/anaconda3/envs/FYP/lib/python3.9/asyncio/base_events.py\", line 1905, in _run_once\n      handle._run()\n    File \"/home/raaif/anaconda3/envs/FYP/lib/python3.9/asyncio/events.py\", line 80, in _run\n      self._context.run(self._callback, *self._args)\n    File \"/home/raaif/anaconda3/envs/FYP/lib/python3.9/site-packages/ipykernel/kernelbase.py\", line 545, in dispatch_queue\n      await self.process_one()\n    File \"/home/raaif/anaconda3/envs/FYP/lib/python3.9/site-packages/ipykernel/kernelbase.py\", line 534, in process_one\n      await dispatch(*args)\n    File \"/home/raaif/anaconda3/envs/FYP/lib/python3.9/site-packages/ipykernel/kernelbase.py\", line 437, in dispatch_shell\n      await result\n    File \"/home/raaif/anaconda3/envs/FYP/lib/python3.9/site-packages/ipykernel/ipkernel.py\", line 359, in execute_request\n      await super().execute_request(stream, ident, parent)\n    File \"/home/raaif/anaconda3/envs/FYP/lib/python3.9/site-packages/ipykernel/kernelbase.py\", line 778, in execute_request\n      reply_content = await reply_content\n    File \"/home/raaif/anaconda3/envs/FYP/lib/python3.9/site-packages/ipykernel/ipkernel.py\", line 446, in do_execute\n      res = shell.run_cell(\n    File \"/home/raaif/anaconda3/envs/FYP/lib/python3.9/site-packages/ipykernel/zmqshell.py\", line 549, in run_cell\n      return super().run_cell(*args, **kwargs)\n    File \"/home/raaif/anaconda3/envs/FYP/lib/python3.9/site-packages/IPython/core/interactiveshell.py\", line 3048, in run_cell\n      result = self._run_cell(\n    File \"/home/raaif/anaconda3/envs/FYP/lib/python3.9/site-packages/IPython/core/interactiveshell.py\", line 3103, in _run_cell\n      result = runner(coro)\n    File \"/home/raaif/anaconda3/envs/FYP/lib/python3.9/site-packages/IPython/core/async_helpers.py\", line 129, in _pseudo_sync_runner\n      coro.send(None)\n    File \"/home/raaif/anaconda3/envs/FYP/lib/python3.9/site-packages/IPython/core/interactiveshell.py\", line 3308, in run_cell_async\n      has_raised = await self.run_ast_nodes(code_ast.body, cell_name,\n    File \"/home/raaif/anaconda3/envs/FYP/lib/python3.9/site-packages/IPython/core/interactiveshell.py\", line 3490, in run_ast_nodes\n      if await self.run_code(code, result, async_=asy):\n    File \"/home/raaif/anaconda3/envs/FYP/lib/python3.9/site-packages/IPython/core/interactiveshell.py\", line 3550, in run_code\n      exec(code_obj, self.user_global_ns, self.user_ns)\n    File \"/tmp/ipykernel_22211/4228252922.py\", line 2, in <module>\n      moco.train(augmented_dataset, optim, epochs, steps_per_epoch)\n    File \"/tmp/ipykernel_22211/1281425041.py\", line 71, in train\n      loss = self.training_step(batch, optimizer)\n    File \"/home/raaif/anaconda3/envs/FYP/lib/python3.9/site-packages/tensorflow/python/util/traceback_utils.py\", line 150, in error_handler\n      return fn(*args, **kwargs)\n    File \"/home/raaif/anaconda3/envs/FYP/lib/python3.9/site-packages/tensorflow/python/eager/polymorphic_function/polymorphic_function.py\", line 880, in __call__\n      result = self._call(*args, **kwds)\n    File \"/home/raaif/anaconda3/envs/FYP/lib/python3.9/site-packages/tensorflow/python/eager/polymorphic_function/polymorphic_function.py\", line 928, in _call\n      self._initialize(args, kwds, add_initializers_to=initializers)\n    File \"/home/raaif/anaconda3/envs/FYP/lib/python3.9/site-packages/tensorflow/python/eager/polymorphic_function/polymorphic_function.py\", line 749, in _initialize\n      self._variable_creation_fn    # pylint: disable=protected-access\n    File \"/home/raaif/anaconda3/envs/FYP/lib/python3.9/site-packages/tensorflow/python/eager/polymorphic_function/tracing_compiler.py\", line 162, in _get_concrete_function_internal_garbage_collected\n      concrete_function, _ = self._maybe_define_concrete_function(args, kwargs)\n    File \"/home/raaif/anaconda3/envs/FYP/lib/python3.9/site-packages/tensorflow/python/eager/polymorphic_function/tracing_compiler.py\", line 157, in _maybe_define_concrete_function\n      return self._maybe_define_function(args, kwargs)\n    File \"/home/raaif/anaconda3/envs/FYP/lib/python3.9/site-packages/tensorflow/python/eager/polymorphic_function/tracing_compiler.py\", line 360, in _maybe_define_function\n      concrete_function = self._create_concrete_function(args, kwargs)\n    File \"/home/raaif/anaconda3/envs/FYP/lib/python3.9/site-packages/tensorflow/python/eager/polymorphic_function/tracing_compiler.py\", line 284, in _create_concrete_function\n      func_graph_module.func_graph_from_py_func(\n    File \"/home/raaif/anaconda3/envs/FYP/lib/python3.9/site-packages/tensorflow/python/framework/func_graph.py\", line 1283, in func_graph_from_py_func\n      func_outputs = python_func(*func_args, **func_kwargs)\n    File \"/home/raaif/anaconda3/envs/FYP/lib/python3.9/site-packages/tensorflow/python/eager/polymorphic_function/polymorphic_function.py\", line 645, in wrapped_fn\n      out = weak_wrapped_fn().__wrapped__(*args, **kwds)\n    File \"/home/raaif/anaconda3/envs/FYP/lib/python3.9/site-packages/tensorflow/python/eager/polymorphic_function/tracing_compiler.py\", line 445, in bound_method_wrapper\n      return wrapped_fn(*args, **kwargs)\n    File \"/home/raaif/anaconda3/envs/FYP/lib/python3.9/site-packages/tensorflow/python/framework/func_graph.py\", line 1258, in autograph_handler\n      return autograph.converted_call(\n    File \"/tmp/ipykernel_22211/1281425041.py\", line 64, in training_step\n      self.enqueue(keys)\n    File \"/home/raaif/anaconda3/envs/FYP/lib/python3.9/site-packages/tensorflow/python/util/traceback_utils.py\", line 150, in error_handler\n      return fn(*args, **kwargs)\n    File \"/home/raaif/anaconda3/envs/FYP/lib/python3.9/site-packages/tensorflow/python/eager/polymorphic_function/polymorphic_function.py\", line 880, in __call__\n      result = self._call(*args, **kwds)\n    File \"/home/raaif/anaconda3/envs/FYP/lib/python3.9/site-packages/tensorflow/python/eager/polymorphic_function/polymorphic_function.py\", line 928, in _call\n      self._initialize(args, kwds, add_initializers_to=initializers)\n    File \"/home/raaif/anaconda3/envs/FYP/lib/python3.9/site-packages/tensorflow/python/eager/polymorphic_function/polymorphic_function.py\", line 749, in _initialize\n      self._variable_creation_fn    # pylint: disable=protected-access\n    File \"/home/raaif/anaconda3/envs/FYP/lib/python3.9/site-packages/tensorflow/python/eager/polymorphic_function/tracing_compiler.py\", line 162, in _get_concrete_function_internal_garbage_collected\n      concrete_function, _ = self._maybe_define_concrete_function(args, kwargs)\n    File \"/home/raaif/anaconda3/envs/FYP/lib/python3.9/site-packages/tensorflow/python/eager/polymorphic_function/tracing_compiler.py\", line 157, in _maybe_define_concrete_function\n      return self._maybe_define_function(args, kwargs)\n    File \"/home/raaif/anaconda3/envs/FYP/lib/python3.9/site-packages/tensorflow/python/eager/polymorphic_function/tracing_compiler.py\", line 360, in _maybe_define_function\n      concrete_function = self._create_concrete_function(args, kwargs)\n    File \"/home/raaif/anaconda3/envs/FYP/lib/python3.9/site-packages/tensorflow/python/eager/polymorphic_function/tracing_compiler.py\", line 284, in _create_concrete_function\n      func_graph_module.func_graph_from_py_func(\n    File \"/home/raaif/anaconda3/envs/FYP/lib/python3.9/site-packages/tensorflow/python/framework/func_graph.py\", line 1283, in func_graph_from_py_func\n      func_outputs = python_func(*func_args, **func_kwargs)\n    File \"/home/raaif/anaconda3/envs/FYP/lib/python3.9/site-packages/tensorflow/python/eager/polymorphic_function/polymorphic_function.py\", line 645, in wrapped_fn\n      out = weak_wrapped_fn().__wrapped__(*args, **kwds)\n    File \"/home/raaif/anaconda3/envs/FYP/lib/python3.9/site-packages/tensorflow/python/eager/polymorphic_function/tracing_compiler.py\", line 445, in bound_method_wrapper\n      return wrapped_fn(*args, **kwargs)\n    File \"/home/raaif/anaconda3/envs/FYP/lib/python3.9/site-packages/tensorflow/python/framework/func_graph.py\", line 1258, in autograph_handler\n      return autograph.converted_call(\n    File \"/tmp/ipykernel_22211/1281425041.py\", line 19, in enqueue\n      self.queue = tf.tensor_scatter_nd_update(self.queue, tf.expand_dims(replace_indices, 1), features)\n    File \"/home/raaif/anaconda3/envs/FYP/lib/python3.9/site-packages/tensorflow/python/util/traceback_utils.py\", line 150, in error_handler\n      return fn(*args, **kwargs)\n    File \"/home/raaif/anaconda3/envs/FYP/lib/python3.9/site-packages/tensorflow/python/util/dispatch.py\", line 1176, in op_dispatch_handler\n      return dispatch_target(*args, **kwargs)\n    File \"/home/raaif/anaconda3/envs/FYP/lib/python3.9/site-packages/tensorflow/python/ops/array_ops.py\", line 6100, in tensor_scatter_nd_update\n      return gen_array_ops.tensor_scatter_update(\n    File \"/home/raaif/anaconda3/envs/FYP/lib/python3.9/site-packages/tensorflow/python/ops/gen_array_ops.py\", line 11527, in tensor_scatter_update\n      _, _, _op, _outputs = _op_def_library._apply_op_helper(\n    File \"/home/raaif/anaconda3/envs/FYP/lib/python3.9/site-packages/tensorflow/python/framework/op_def_library.py\", line 795, in _apply_op_helper\n      op = g._create_op_internal(op_type_name, inputs, dtypes=None,\n    File \"/home/raaif/anaconda3/envs/FYP/lib/python3.9/site-packages/tensorflow/python/framework/func_graph.py\", line 749, in _create_op_internal\n      return super(FuncGraph, self)._create_op_internal(  # pylint: disable=protected-access\n    File \"/home/raaif/anaconda3/envs/FYP/lib/python3.9/site-packages/tensorflow/python/framework/ops.py\", line 3798, in _create_op_internal\n      ret = Operation(\n\nThe tensor <tf.Tensor 'TensorScatterUpdate:0' shape=(65536, 128) dtype=float32> cannot be accessed from here, because it was defined in FuncGraph(name=enqueue, id=128257392638992), which is out of scope."
     ]
    }
   ],
   "source": [
    "optim = keras.optimizers.Adam(learning_rate=0.0001)\n",
    "moco.train(augmented_dataset, optim, epochs, steps_per_epoch)"
   ]
  }
 ],
 "metadata": {
  "kernelspec": {
   "display_name": "FYP",
   "language": "python",
   "name": "python3"
  },
  "language_info": {
   "codemirror_mode": {
    "name": "ipython",
    "version": 3
   },
   "file_extension": ".py",
   "mimetype": "text/x-python",
   "name": "python",
   "nbconvert_exporter": "python",
   "pygments_lexer": "ipython3",
   "version": "3.9.18"
  }
 },
 "nbformat": 4,
 "nbformat_minor": 2
}
