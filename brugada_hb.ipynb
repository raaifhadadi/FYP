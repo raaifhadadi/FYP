{
 "cells": [
  {
   "cell_type": "code",
   "execution_count": 78,
   "metadata": {
    "metadata": {}
   },
   "outputs": [
    {
     "data": {
      "text/plain": [
       "<module 'data_augmentation' from '/home/raaif/Desktop/Uni/y4/FYP/data_augmentation.py'>"
      ]
     },
     "execution_count": 78,
     "metadata": {},
     "output_type": "execute_result"
    }
   ],
   "source": [
    "import numpy as np\n",
    "import matplotlib.pyplot as plt\n",
    "import os\n",
    "import sys\n",
    "import wfdb\n",
    "import pandas as pd\n",
    "import ast\n",
    "import random\n",
    "import seaborn as sns\n",
    "\n",
    "\n",
    "import torch\n",
    "import torch.nn as nn\n",
    "import torch.optim as optim\n",
    "\n",
    "import tensorflow as tf\n",
    "import tensorflow.keras as keras\n",
    "import keras.metrics as metrics\n",
    "\n",
    "import data_visualisation as dv\n",
    "import data_augmentation as da\n",
    "# from PTBXL import PTBXL\n",
    "import importlib\n",
    "\n",
    "importlib.reload(dv)\n",
    "importlib.reload(da)"
   ]
  },
  {
   "cell_type": "code",
   "execution_count": 79,
   "metadata": {
    "metadata": {}
   },
   "outputs": [],
   "source": [
    "def load_china_data(dir_path, label):\n",
    "    \n",
    "    # init array\n",
    "    data = []\n",
    "    \n",
    "    # read all files in the directory\n",
    "    for file in os.listdir(dir_path):\n",
    "        path = os.path.join(dir_path, file)\n",
    "        f = open(path, 'r')\n",
    "        ecg = np.fromfile(f, dtype=np.int16)\n",
    "        ecg = np.reshape(ecg, (8, 5000))\n",
    "        \n",
    "        ## Downsample to 100hz\n",
    "        ecg = ecg.reshape(8, 1000, 5)\n",
    "        ecg = np.mean(ecg, axis=2)\n",
    "        \n",
    "        data.append(ecg)\n",
    "        f.close()\n",
    "        \n",
    "    # Convert to numpy array\n",
    "    data = np.array(data)\n",
    "    # Reshape to (n_samples, n_samples_per_lead, n_leads)\n",
    "    data = np.swapaxes(data, 1, 2)\n",
    "    \n",
    "    # Calculate remaining leads\n",
    "    lead_III = data[:,:,1] - data[:,:,0]           # ecg_dict['III'] = ecg_dict['II'] - ecg_dict['I']\n",
    "    lead_aVR = -0.5 * (data[:,:,0] + data[:,:,1])  # ecg_dict['aVR'] = -0.5 * (ecg_dict['I'] + ecg_dict['II'])\n",
    "    lead_aVL = data[:,:,0] - 0.5 * data[:,:,1]     # ecg_dict['aVL'] = ecg_dict['I'] - 0.5 * ecg_dict['II']\n",
    "    lead_aVF = data[:,:,1] - 0.5 * data[:,:,0]     # ecg_dict['aVF'] = ecg_dict['II'] - 0.5 * ecg_dict['I']\n",
    "    \n",
    "    # Add remaining leads to data\n",
    "    data = np.concatenate((data,  \n",
    "                              np.expand_dims(lead_III, axis=2), \n",
    "                              np.expand_dims(lead_aVR, axis=2), \n",
    "                              np.expand_dims(lead_aVL, axis=2), \n",
    "                              np.expand_dims(lead_aVF, axis=2)), axis=2)\n",
    "    \n",
    "    return data, np.full(data.shape[0], label)"
   ]
  },
  {
   "cell_type": "code",
   "execution_count": 84,
   "metadata": {
    "metadata": {}
   },
   "outputs": [],
   "source": [
    "# Load the data\n",
    "brugada_path = 'DAT China/DAT China Brugada ECGs/dat'\n",
    "RBBB_path = 'DAT China/DAT China RBBB ECGs/datnew'\n",
    "Normal_path = 'DAT China/Normal/dat'\n",
    "\n",
    "label_dict = {0: 'Normal', 1: 'Brugada', 2: 'RBBB'}\n",
    "\n",
    "Normal_data, normal_labels = load_china_data(Normal_path, 0)\n",
    "brugada_data, brugada_labels = load_china_data(brugada_path, 1)\n",
    "RBBB_data, RBBB_labels = load_china_data(RBBB_path, 2)"
   ]
  },
  {
   "cell_type": "code",
   "execution_count": 85,
   "metadata": {
    "metadata": {}
   },
   "outputs": [
    {
     "name": "stdout",
     "output_type": "stream",
     "text": [
      "Original data\n",
      "Normal: (9998, 1000, 12)\n",
      "RBBB: (10000, 1000, 12)\n",
      "Burgada: (176, 1000, 12)\n",
      "\n",
      "Downsampled data\n",
      "Normal: (199, 1000, 12)\n",
      "RBBB: (100, 1000, 12)\n",
      "Burgada: (176, 1000, 12)\n"
     ]
    }
   ],
   "source": [
    "# Downsample for training\n",
    "\n",
    "#original data\n",
    "print(\"Original data\")\n",
    "print(\"Normal:\", Normal_data.shape)\n",
    "print(\"RBBB:\", RBBB_data.shape)\n",
    "print(\"Burgada:\", brugada_data.shape)\n",
    "\n",
    "Normal_ratio = 0.02\n",
    "RBBB_ratio = 0.01\n",
    "\n",
    "# get random samples\n",
    "Normal_downsampled = Normal_data[np.random.choice(Normal_data.shape[0], int(Normal_data.shape[0] * Normal_ratio), replace=False)]\n",
    "RBBB_downsampled = RBBB_data[np.random.choice(RBBB_data.shape[0], int(RBBB_data.shape[0] * RBBB_ratio), replace=False)]\n",
    "Bruagada_downsampled = brugada_data\n",
    "\n",
    "print(\"\\nDownsampled data\")\n",
    "print(\"Normal:\", Normal_downsampled.shape)\n",
    "print(\"RBBB:\", RBBB_downsampled.shape)\n",
    "print(\"Burgada:\", Bruagada_downsampled.shape)"
   ]
  },
  {
   "cell_type": "code",
   "execution_count": 86,
   "metadata": {
    "metadata": {}
   },
   "outputs": [
    {
     "name": "stdout",
     "output_type": "stream",
     "text": [
      "\n",
      "Data shape: (475, 1000, 12)\n",
      "Labels shape: (475,)\n"
     ]
    }
   ],
   "source": [
    "# shuffle data\n",
    "np.random.shuffle(Normal_downsampled)\n",
    "np.random.shuffle(RBBB_downsampled)\n",
    "np.random.shuffle(Bruagada_downsampled)\n",
    "\n",
    "data = np.concatenate((Normal_downsampled, RBBB_downsampled, Bruagada_downsampled), axis=0)\n",
    "labels = np.concatenate((normal_labels[:Normal_downsampled.shape[0]], RBBB_labels[:RBBB_downsampled.shape[0]], brugada_labels), axis=0)\n",
    "\n",
    "print(\"\\nData shape:\", data.shape)\n",
    "print(\"Labels shape:\", labels.shape)\n",
    "\n",
    "# shuffle data\n",
    "permutation = np.random.permutation(data.shape[0])\n",
    "np.random.shuffle(permutation)\n",
    "\n",
    "shuffled_data = data[permutation]\n",
    "shuffled_labels = labels[permutation]"
   ]
  },
  {
   "cell_type": "code",
   "execution_count": 87,
   "metadata": {
    "metadata": {}
   },
   "outputs": [],
   "source": [
    "# normalise the data\n",
    "from sklearn.preprocessing import StandardScaler\n",
    "\n",
    "X_scaler = StandardScaler()\n",
    "X_scaler.fit(shuffled_data.reshape(-1, shuffled_data.shape[-1]))\n",
    "\n",
    "X_HB_normalised = X_scaler.transform(shuffled_data.reshape(-1, shuffled_data.shape[-1])).reshape(shuffled_data.shape)"
   ]
  },
  {
   "cell_type": "code",
   "execution_count": 88,
   "metadata": {
    "metadata": {}
   },
   "outputs": [
    {
     "name": "stdout",
     "output_type": "stream",
     "text": [
      "new data shape/ 475\n",
      "(6306, 200, 12)\n",
      "(6306,)\n",
      "(6306,)\n"
     ]
    }
   ],
   "source": [
    "from wfdb import processing\n",
    "\n",
    "X_HB = []\n",
    "Y_HB = []\n",
    "Y_HB_text = []\n",
    "\n",
    "sampling_rate = 100\n",
    "window_size = sampling_rate\n",
    "\n",
    "get_text_label = lambda x: label_dict[x]\n",
    "\n",
    "for i, sample in enumerate(X_HB_normalised):\n",
    "    print(\"Progress:\", i, \"/\", X_HB_normalised.shape[0], end=\"\\r\")\n",
    "    xqrs = processing.XQRS(sig=sample[:,0], fs=sampling_rate)\n",
    "    xqrs.detect(verbose=False)\n",
    "    qrs_inds = xqrs.qrs_inds\n",
    "    for indx in qrs_inds:\n",
    "        if indx + window_size > sample.shape[0] or indx - window_size < 0:\n",
    "            continue\n",
    "        X_HB.append(sample[indx-window_size:indx+window_size])\n",
    "        Y_HB.append(shuffled_labels[i])\n",
    "        Y_HB_text.append(get_text_label(shuffled_labels[i]))\n",
    "        \n",
    "X_HB = np.array(X_HB)\n",
    "Y_HB = np.array(Y_HB)\n",
    "Y_HB_text = np.array(Y_HB_text)\n",
    "\n",
    "print(\"new data shape\")\n",
    "print(X_HB.shape)\n",
    "print(Y_HB.shape)\n",
    "print(Y_HB_text.shape)"
   ]
  },
  {
   "cell_type": "code",
   "execution_count": 90,
   "metadata": {
    "metadata": {}
   },
   "outputs": [
    {
     "name": "stdout",
     "output_type": "stream",
     "text": [
      "Train data shape: (4414, 200, 12)\n",
      "Train labels shape: (4414,)\n",
      "Train text labels shape: (4414,)\n",
      "Val data shape: (630, 200, 12)\n",
      "Val labels shape: (630,)\n",
      "Val text labels shape: (630,)\n",
      "Test data shape: (1262, 200, 12)\n",
      "Test labels shape: (1262,)\n",
      "Test text labels shape: (1262,)\n"
     ]
    }
   ],
   "source": [
    "# get a test, train, validation split\n",
    "train_split = 0.7\n",
    "val_split = 0.1\n",
    "test_split = 0.2\n",
    "\n",
    "train_data = X_HB[:int(X_HB.shape[0] * train_split)]\n",
    "train_labels = Y_HB[:int(Y_HB.shape[0] * train_split)]\n",
    "train_text_labels = Y_HB_text[:int(Y_HB.shape[0] * train_split)]\n",
    "\n",
    "val_data = X_HB[int(X_HB.shape[0] * train_split):int(X_HB.shape[0] * (train_split + val_split))]\n",
    "val_labels = Y_HB[int(Y_HB.shape[0] * train_split):int(Y_HB.shape[0] * (train_split + val_split))]\n",
    "val_text_labels = Y_HB_text[int(Y_HB.shape[0] * train_split):int(Y_HB.shape[0] * (train_split + val_split))]\n",
    "\n",
    "test_data = X_HB[int(X_HB.shape[0] * (train_split + val_split)):]\n",
    "test_labels = Y_HB[int(Y_HB.shape[0] * (train_split + val_split)):]\n",
    "test_text_labels = Y_HB_text[int(Y_HB.shape[0] * (train_split + val_split)):]\n",
    "\n",
    "print(\"Train data shape:\", train_data.shape)\n",
    "print(\"Train labels shape:\", train_labels.shape)\n",
    "print(\"Train text labels shape:\", train_text_labels.shape)\n",
    "print(\"Val data shape:\", val_data.shape)\n",
    "print(\"Val labels shape:\", val_labels.shape)\n",
    "print(\"Val text labels shape:\", val_text_labels.shape)\n",
    "print(\"Test data shape:\", test_data.shape)\n",
    "print(\"Test labels shape:\", test_labels.shape)\n",
    "print(\"Test text labels shape:\", test_text_labels.shape)"
   ]
  },
  {
   "cell_type": "code",
   "execution_count": 103,
   "metadata": {
    "metadata": {}
   },
   "outputs": [
    {
     "name": "stdout",
     "output_type": "stream",
     "text": [
      "Train label distribution\n",
      "Brugada : 1658 \t  0.38%\n",
      "Normal : 1934 \t  0.44%\n",
      "RBBB : 822 \t  0.19%\n",
      "\n",
      "Val label distribution\n",
      "Brugada : 197 \t  0.31%\n",
      "Normal : 313 \t  0.50%\n",
      "RBBB : 120 \t  0.19%\n",
      "\n",
      "Test label distribution\n",
      "Brugada : 482 \t  0.38%\n",
      "Normal : 618 \t  0.49%\n",
      "RBBB : 162 \t  0.13%\n"
     ]
    }
   ],
   "source": [
    "# check label distribution in each set\n",
    "\n",
    "print(\"Train label distribution\")\n",
    "t = np.unique(train_text_labels, return_counts=True)\n",
    "for i in range(len(t[0])):\n",
    "    print(t[0][i], \":\", t[1][i], \"\\t\", f'{t[1][i] / (np.sum(t[1])) : .2f}%',)\n",
    "\n",
    "t = np.unique(val_text_labels, return_counts=True)\n",
    "print(\"\\nVal label distribution\")\n",
    "for i in range(len(t[0])):\n",
    "    print(t[0][i], \":\", t[1][i], \"\\t\", f'{t[1][i] / (np.sum(t[1])) : .2f}%',)\n",
    "\n",
    "t = np.unique(test_text_labels, return_counts=True)\n",
    "print(\"\\nTest label distribution\")\n",
    "for i in range(len(t[0])):\n",
    "    print(t[0][i], \":\", t[1][i], \"\\t\", f'{t[1][i] / (np.sum(t[1])) : .2f}%',)\n"
   ]
  },
  {
   "cell_type": "code",
   "execution_count": 20,
   "metadata": {
    "metadata": {}
   },
   "outputs": [],
   "source": [
    "NP_DATA_LR = 'data/DAT_China_2s_window.npz'\n",
    "\n",
    "save_args = {\n",
    "    'X_train': train_data,\n",
    "    'y_train': train_labels,\n",
    "    'X_val': val_data,\n",
    "    'y_val': val_labels,\n",
    "    'X_test': test_data,\n",
    "    'y_test': test_labels\n",
    "}\n",
    "\n",
    "np.savez(NP_DATA_LR, **save_args)"
   ]
  },
  {
   "cell_type": "code",
   "execution_count": 4,
   "metadata": {
    "metadata": {}
   },
   "outputs": [],
   "source": [
    "thismodule = sys.modules[__name__]\n",
    "NP_DATA = 'data/DAT_China_2s_window.npz'\n",
    "\n",
    "with np.load(NP_DATA, allow_pickle=True) as data:\n",
    "    for k in data.keys():\n",
    "        if k == 'y_train_text':\n",
    "            setattr(thismodule, k, data[k])\n",
    "        else:\n",
    "            setattr(thismodule, k, data[k].astype(float))"
   ]
  },
  {
   "cell_type": "code",
   "execution_count": 77,
   "metadata": {
    "metadata": {}
   },
   "outputs": [
    {
     "data": {
      "image/png": "[encoded data removed]",
      "text/plain": [
       "<Figure size 400x600 with 12 Axes>"
      ]
     },
     "metadata": {},
     "output_type": "display_data"
    }
   ],
   "source": [
    "rand_index = np.random.randint(0, X_train.shape[0])\n",
    "rand_sample = X_train[rand_index]\n",
    "label = y_train[rand_index]\n",
    "text_label = \"Brugada\" if label == 1 else \"Normal\"\n",
    "\n",
    "\n",
    "\n",
    "leads = ['I', 'II', 'III', 'aVR', 'aVL', 'aVF', 'V1', 'V2', 'V3', 'V4', 'V5', 'V6']\n",
    "no_leads = rand_sample.shape[1]\n",
    "samp_length = rand_sample.shape[0]\n",
    "\n",
    "\n",
    "fig, axs = plt.subplots(nrows=no_leads, sharex=True, figsize=(samp_length//50, no_leads//2))\n",
    "# set title of fig to label\n",
    "fig.suptitle(text_label, fontsize=16)\n",
    "for i in range(no_leads):\n",
    "    axs[i].plot(rand_sample[:, i])\n",
    "    axs[i].set_ylabel(leads[i])\n",
    "    \n",
    "plt.show()\n",
    "    "
   ]
  },
  {
   "cell_type": "code",
   "execution_count": 23,
   "metadata": {
    "metadata": {}
   },
   "outputs": [
    {
     "name": "stdout",
     "output_type": "stream",
     "text": [
      "Model: \"model\"\n",
      "_________________________________________________________________\n",
      " Layer (type)                Output Shape              Param #   \n",
      "=================================================================\n",
      " input_1 (InputLayer)        [(None, 200, 12)]         0         \n",
      "                                                                 \n",
      " conv1d (Conv1D)             (None, 196, 16)           976       \n",
      "                                                                 \n",
      " batch_normalization (BatchN  (None, 196, 16)          64        \n",
      " ormalization)                                                   \n",
      "                                                                 \n",
      " activation (Activation)     (None, 196, 16)           0         \n",
      "                                                                 \n",
      " max_pooling1d (MaxPooling1D  (None, 98, 16)           0         \n",
      " )                                                               \n",
      "                                                                 \n",
      " conv1d_1 (Conv1D)           (None, 96, 32)            1568      \n",
      "                                                                 \n",
      " batch_normalization_1 (Batc  (None, 96, 32)           128       \n",
      " hNormalization)                                                 \n",
      "                                                                 \n",
      " activation_1 (Activation)   (None, 96, 32)            0         \n",
      "                                                                 \n",
      " max_pooling1d_1 (MaxPooling  (None, 48, 32)           0         \n",
      " 1D)                                                             \n",
      "                                                                 \n",
      " conv1d_2 (Conv1D)           (None, 46, 32)            3104      \n",
      "                                                                 \n",
      " batch_normalization_2 (Batc  (None, 46, 32)           128       \n",
      " hNormalization)                                                 \n",
      "                                                                 \n",
      " activation_2 (Activation)   (None, 46, 32)            0         \n",
      "                                                                 \n",
      " global_average_pooling1d (G  (None, 32)               0         \n",
      " lobalAveragePooling1D)                                          \n",
      "                                                                 \n",
      " dropout (Dropout)           (None, 32)                0         \n",
      "                                                                 \n",
      " dense (Dense)               (None, 32)                1056      \n",
      "                                                                 \n",
      " dense_1 (Dense)             (None, 1)                 33        \n",
      "                                                                 \n",
      "=================================================================\n",
      "Total params: 7,057\n",
      "Trainable params: 6,897\n",
      "Non-trainable params: 160\n",
      "_________________________________________________________________\n"
     ]
    },
    {
     "name": "stderr",
     "output_type": "stream",
     "text": [
      "2024-05-11 14:31:22.792295: I tensorflow/compiler/xla/stream_executor/cuda/cuda_gpu_executor.cc:981] successful NUMA node read from SysFS had negative value (-1), but there must be at least one NUMA node, so returning NUMA node zero\n",
      "2024-05-11 14:31:22.892770: I tensorflow/compiler/xla/stream_executor/cuda/cuda_gpu_executor.cc:981] successful NUMA node read from SysFS had negative value (-1), but there must be at least one NUMA node, so returning NUMA node zero\n",
      "2024-05-11 14:31:22.892991: I tensorflow/compiler/xla/stream_executor/cuda/cuda_gpu_executor.cc:981] successful NUMA node read from SysFS had negative value (-1), but there must be at least one NUMA node, so returning NUMA node zero\n",
      "2024-05-11 14:31:22.893626: I tensorflow/core/platform/cpu_feature_guard.cc:193] This TensorFlow binary is optimized with oneAPI Deep Neural Network Library (oneDNN) to use the following CPU instructions in performance-critical operations:  AVX2 FMA\n",
      "To enable them in other operations, rebuild TensorFlow with the appropriate compiler flags.\n",
      "2024-05-11 14:31:22.894530: I tensorflow/compiler/xla/stream_executor/cuda/cuda_gpu_executor.cc:981] successful NUMA node read from SysFS had negative value (-1), but there must be at least one NUMA node, so returning NUMA node zero\n",
      "2024-05-11 14:31:22.894703: I tensorflow/compiler/xla/stream_executor/cuda/cuda_gpu_executor.cc:981] successful NUMA node read from SysFS had negative value (-1), but there must be at least one NUMA node, so returning NUMA node zero\n",
      "2024-05-11 14:31:22.894857: I tensorflow/compiler/xla/stream_executor/cuda/cuda_gpu_executor.cc:981] successful NUMA node read from SysFS had negative value (-1), but there must be at least one NUMA node, so returning NUMA node zero\n",
      "2024-05-11 14:31:22.976658: I tensorflow/compiler/xla/stream_executor/cuda/cuda_gpu_executor.cc:981] successful NUMA node read from SysFS had negative value (-1), but there must be at least one NUMA node, so returning NUMA node zero\n",
      "2024-05-11 14:31:22.977030: I tensorflow/compiler/xla/stream_executor/cuda/cuda_gpu_executor.cc:981] successful NUMA node read from SysFS had negative value (-1), but there must be at least one NUMA node, so returning NUMA node zero\n",
      "2024-05-11 14:31:22.977196: I tensorflow/compiler/xla/stream_executor/cuda/cuda_gpu_executor.cc:981] successful NUMA node read from SysFS had negative value (-1), but there must be at least one NUMA node, so returning NUMA node zero\n",
      "2024-05-11 14:31:22.977457: I tensorflow/core/common_runtime/gpu/gpu_device.cc:1613] Created device /job:localhost/replica:0/task:0/device:GPU:0 with 5793 MB memory:  -> device: 0, name: NVIDIA GeForce RTX 3070 Ti, pci bus id: 0000:2b:00.0, compute capability: 8.6\n"
     ]
    }
   ],
   "source": [
    "# define cnn model\n",
    "import tensorflow as tf\n",
    "from tensorflow import keras\n",
    "from tensorflow.keras import metrics\n",
    "\n",
    "# model for windowed data\n",
    "\n",
    "def cnn_model(X, num_classes=5, filters = [16, 32, 32], kernels = [5,3,3]):\n",
    "    \n",
    "    X = keras.layers.Conv1D(filters=filters[0], kernel_size=kernels[0], input_shape=X.shape[1:])(X)\n",
    "    X = keras.layers.BatchNormalization()(X)\n",
    "    X = keras.layers.Activation('relu')(X)\n",
    "    \n",
    "    X = keras.layers.MaxPooling1D(2)(X)\n",
    "    \n",
    "    X = keras.layers.Conv1D(filters=filters[1], kernel_size=kernels[1])(X)\n",
    "    X = keras.layers.BatchNormalization()(X)\n",
    "    X = keras.layers.Activation('relu')(X)\n",
    "    \n",
    "    X = keras.layers.MaxPooling1D(2)(X)\n",
    "    \n",
    "    X = keras.layers.Conv1D(filters=filters[2], kernel_size=kernels[2])(X)\n",
    "    X = keras.layers.BatchNormalization()(X)\n",
    "    X = keras.layers.Activation('relu')(X)\n",
    "    \n",
    "    features_output = keras.layers.GlobalAveragePooling1D()(X)\n",
    "    X = keras.layers.Dropout(0.5)(features_output)\n",
    "    \n",
    "    # X = keras.layers.Dense(64, activation='relu')(X)\n",
    "    # X = keras.layers.Dropout(0.2)(X)\n",
    "    X = keras.layers.Dense(32, activation='relu')(X)\n",
    "    X = keras.layers.Dense(num_classes, activation='sigmoid')(X)\n",
    "    \n",
    "    \n",
    "    return X, features_output\n",
    "\n",
    "num_classes = 1\n",
    "X_input = keras.Input(shape=X_train.shape[1:])\n",
    "outputs, feature_output = cnn_model(X_input, num_classes=num_classes)\n",
    "\n",
    "model = keras.Model(inputs=X_input, outputs=outputs)\n",
    "model.compile(optimizer='adam', loss='binary_crossentropy', metrics=['accuracy', 'Precision', 'Recall', metrics.binary_accuracy])\n",
    "model.summary()"
   ]
  },
  {
   "cell_type": "code",
   "execution_count": 33,
   "metadata": {
    "metadata": {}
   },
   "outputs": [
    {
     "name": "stdout",
     "output_type": "stream",
     "text": [
      "Model: \"model_6\"\n",
      "_________________________________________________________________\n",
      " Layer (type)                Output Shape              Param #   \n",
      "=================================================================\n",
      " input_7 (InputLayer)        [(None, 200, 12)]         0         \n",
      "                                                                 \n",
      " bidirectional_7 (Bidirectio  (None, 64)               11520     \n",
      " nal)                                                            \n",
      "                                                                 \n",
      " dense_12 (Dense)            (None, 16)                1040      \n",
      "                                                                 \n",
      " dropout_7 (Dropout)         (None, 16)                0         \n",
      "                                                                 \n",
      " dense_13 (Dense)            (None, 1)                 17        \n",
      "                                                                 \n",
      "=================================================================\n",
      "Total params: 12,577\n",
      "Trainable params: 12,577\n",
      "Non-trainable params: 0\n",
      "_________________________________________________________________\n"
     ]
    }
   ],
   "source": [
    "#define rnn model\n",
    "\n",
    "def rnn_model(X, num_classes=1, units = 32):\n",
    "        \n",
    "        # X = keras.layers.Bidirectional(keras.layers.LSTM(units, return_sequences=True))(X)\n",
    "        X = keras.layers.Bidirectional(keras.layers.LSTM(units, return_sequences=False))(X)\n",
    "        \n",
    "        # dropout layer\n",
    "        # X = keras.layers.Dropout(0.5)(X)\n",
    "        X = keras.layers.Dense(16, activation='relu')(X)\n",
    "        X = keras.layers.Dropout(0.2)(X)\n",
    "        X = keras.layers.Dense(num_classes, activation='sigmoid')(X)\n",
    "        \n",
    "        return X\n",
    "    \n",
    "X_input = keras.Input(shape=X_train.shape[1:])\n",
    "outputs = rnn_model(X_input)\n",
    "model = keras.Model(inputs=X_input, outputs=outputs)\n",
    "opt = keras.optimizers.Adam(learning_rate=0.0001)\n",
    "model.compile(optimizer=opt, loss='binary_crossentropy', metrics=['accuracy', 'Precision', 'Recall', metrics.binary_accuracy])\n",
    "model.summary()"
   ]
  },
  {
   "cell_type": "code",
   "execution_count": 34,
   "metadata": {
    "metadata": {}
   },
   "outputs": [
    {
     "name": "stdout",
     "output_type": "stream",
     "text": [
      "Epoch 1/50\n",
      "138/138 [==============================] - 3s 12ms/step - loss: 0.6820 - accuracy: 0.5545 - precision: 0.3849 - recall: 0.3360 - binary_accuracy: 0.5545 - val_loss: 0.6937 - val_accuracy: 0.5359 - val_precision: 0.3206 - val_recall: 0.1721 - val_binary_accuracy: 0.5359\n",
      "Epoch 2/50\n",
      "138/138 [==============================] - 1s 9ms/step - loss: 0.6574 - accuracy: 0.6347 - precision: 0.5199 - recall: 0.2009 - binary_accuracy: 0.6347 - val_loss: 0.6847 - val_accuracy: 0.5486 - val_precision: 0.1803 - val_recall: 0.0451 - val_binary_accuracy: 0.5486\n",
      "Epoch 3/50\n",
      "138/138 [==============================] - 1s 9ms/step - loss: 0.6348 - accuracy: 0.6557 - precision: 0.6519 - recall: 0.1542 - binary_accuracy: 0.6557 - val_loss: 0.6867 - val_accuracy: 0.5662 - val_precision: 0.1316 - val_recall: 0.0205 - val_binary_accuracy: 0.5662\n",
      "Epoch 4/50\n",
      "138/138 [==============================] - 1s 9ms/step - loss: 0.6173 - accuracy: 0.6664 - precision: 0.7356 - recall: 0.1572 - binary_accuracy: 0.6664 - val_loss: 0.6932 - val_accuracy: 0.5694 - val_precision: 0.1389 - val_recall: 0.0205 - val_binary_accuracy: 0.5694\n",
      "Epoch 5/50\n",
      "138/138 [==============================] - 1s 9ms/step - loss: 0.5952 - accuracy: 0.6782 - precision: 0.7584 - recall: 0.1947 - binary_accuracy: 0.6782 - val_loss: 0.6938 - val_accuracy: 0.5630 - val_precision: 0.1429 - val_recall: 0.0246 - val_binary_accuracy: 0.5630\n",
      "Epoch 6/50\n",
      "138/138 [==============================] - 1s 9ms/step - loss: 0.5585 - accuracy: 0.7108 - precision: 0.7997 - recall: 0.2942 - binary_accuracy: 0.7108 - val_loss: 0.7044 - val_accuracy: 0.5566 - val_precision: 0.1964 - val_recall: 0.0451 - val_binary_accuracy: 0.5566\n",
      "Epoch 7/50\n",
      "138/138 [==============================] - 1s 9ms/step - loss: 0.4947 - accuracy: 0.7696 - precision: 0.7947 - recall: 0.5111 - binary_accuracy: 0.7696 - val_loss: 0.6525 - val_accuracy: 0.6380 - val_precision: 0.5486 - val_recall: 0.3934 - val_binary_accuracy: 0.6380\n",
      "Epoch 8/50\n",
      "138/138 [==============================] - 1s 10ms/step - loss: 0.4344 - accuracy: 0.8211 - precision: 0.7901 - recall: 0.7052 - binary_accuracy: 0.8211 - val_loss: 0.6105 - val_accuracy: 0.6858 - val_precision: 0.6391 - val_recall: 0.4426 - val_binary_accuracy: 0.6858\n",
      "Epoch 9/50\n",
      "138/138 [==============================] - 1s 9ms/step - loss: 0.3927 - accuracy: 0.8510 - precision: 0.8217 - recall: 0.7641 - binary_accuracy: 0.8510 - val_loss: 0.5991 - val_accuracy: 0.6906 - val_precision: 0.6404 - val_recall: 0.4672 - val_binary_accuracy: 0.6906\n",
      "Epoch 10/50\n",
      "138/138 [==============================] - 1s 9ms/step - loss: 0.3664 - accuracy: 0.8624 - precision: 0.8325 - recall: 0.7875 - binary_accuracy: 0.8624 - val_loss: 0.5837 - val_accuracy: 0.7161 - val_precision: 0.6813 - val_recall: 0.5082 - val_binary_accuracy: 0.7161\n",
      "Epoch 11/50\n",
      "138/138 [==============================] - 1s 9ms/step - loss: 0.3350 - accuracy: 0.8765 - precision: 0.8398 - recall: 0.8243 - binary_accuracy: 0.8765 - val_loss: 0.5729 - val_accuracy: 0.7113 - val_precision: 0.6740 - val_recall: 0.5000 - val_binary_accuracy: 0.7113\n",
      "Epoch 12/50\n",
      "138/138 [==============================] - 1s 9ms/step - loss: 0.3083 - accuracy: 0.8890 - precision: 0.8581 - recall: 0.8397 - binary_accuracy: 0.8890 - val_loss: 0.6036 - val_accuracy: 0.7241 - val_precision: 0.7178 - val_recall: 0.4795 - val_binary_accuracy: 0.7241\n",
      "Epoch 13/50\n",
      "138/138 [==============================] - 1s 9ms/step - loss: 0.2862 - accuracy: 0.8945 - precision: 0.8684 - recall: 0.8434 - binary_accuracy: 0.8945 - val_loss: 0.5679 - val_accuracy: 0.7321 - val_precision: 0.7184 - val_recall: 0.5123 - val_binary_accuracy: 0.7321\n",
      "Epoch 14/50\n",
      "138/138 [==============================] - 1s 9ms/step - loss: 0.2683 - accuracy: 0.9063 - precision: 0.8888 - recall: 0.8544 - binary_accuracy: 0.9063 - val_loss: 0.6181 - val_accuracy: 0.7464 - val_precision: 0.7607 - val_recall: 0.5082 - val_binary_accuracy: 0.7464\n",
      "Epoch 15/50\n",
      "138/138 [==============================] - 1s 9ms/step - loss: 0.2693 - accuracy: 0.9009 - precision: 0.8721 - recall: 0.8587 - binary_accuracy: 0.9009 - val_loss: 0.6381 - val_accuracy: 0.7337 - val_precision: 0.7333 - val_recall: 0.4959 - val_binary_accuracy: 0.7337\n",
      "Epoch 16/50\n",
      "138/138 [==============================] - 1s 9ms/step - loss: 0.2445 - accuracy: 0.9111 - precision: 0.8869 - recall: 0.8716 - binary_accuracy: 0.9111 - val_loss: 0.6155 - val_accuracy: 0.7480 - val_precision: 0.7688 - val_recall: 0.5041 - val_binary_accuracy: 0.7480\n",
      "Epoch 17/50\n",
      "138/138 [==============================] - 1s 9ms/step - loss: 0.2340 - accuracy: 0.9152 - precision: 0.8905 - recall: 0.8796 - binary_accuracy: 0.9152 - val_loss: 0.5652 - val_accuracy: 0.7480 - val_precision: 0.7287 - val_recall: 0.5615 - val_binary_accuracy: 0.7480\n",
      "Epoch 18/50\n",
      "138/138 [==============================] - 1s 9ms/step - loss: 0.2271 - accuracy: 0.9148 - precision: 0.8938 - recall: 0.8741 - binary_accuracy: 0.9148 - val_loss: 0.5478 - val_accuracy: 0.7719 - val_precision: 0.8301 - val_recall: 0.5205 - val_binary_accuracy: 0.7719\n",
      "Epoch 19/50\n",
      "138/138 [==============================] - 1s 9ms/step - loss: 0.2043 - accuracy: 0.9284 - precision: 0.9244 - recall: 0.8790 - binary_accuracy: 0.9284 - val_loss: 0.5207 - val_accuracy: 0.7831 - val_precision: 0.8103 - val_recall: 0.5779 - val_binary_accuracy: 0.7831\n",
      "Epoch 20/50\n",
      "138/138 [==============================] - 1s 9ms/step - loss: 0.1881 - accuracy: 0.9348 - precision: 0.9274 - recall: 0.8943 - binary_accuracy: 0.9348 - val_loss: 0.5464 - val_accuracy: 0.7799 - val_precision: 0.8118 - val_recall: 0.5656 - val_binary_accuracy: 0.7799\n",
      "Epoch 21/50\n",
      "138/138 [==============================] - 1s 9ms/step - loss: 0.1868 - accuracy: 0.9344 - precision: 0.9356 - recall: 0.8839 - binary_accuracy: 0.9344 - val_loss: 0.5450 - val_accuracy: 0.7799 - val_precision: 0.8155 - val_recall: 0.5615 - val_binary_accuracy: 0.7799\n",
      "Epoch 22/50\n",
      "138/138 [==============================] - 1s 9ms/step - loss: 0.1793 - accuracy: 0.9364 - precision: 0.9338 - recall: 0.8919 - binary_accuracy: 0.9364 - val_loss: 0.5531 - val_accuracy: 0.7656 - val_precision: 0.7975 - val_recall: 0.5328 - val_binary_accuracy: 0.7656\n",
      "Epoch 23/50\n",
      "138/138 [==============================] - 1s 9ms/step - loss: 0.1688 - accuracy: 0.9453 - precision: 0.9392 - recall: 0.9115 - binary_accuracy: 0.9453 - val_loss: 0.5283 - val_accuracy: 0.7703 - val_precision: 0.7874 - val_recall: 0.5615 - val_binary_accuracy: 0.7703\n",
      "Epoch 24/50\n",
      "138/138 [==============================] - 1s 9ms/step - loss: 0.1613 - accuracy: 0.9455 - precision: 0.9382 - recall: 0.9134 - binary_accuracy: 0.9455 - val_loss: 0.5538 - val_accuracy: 0.7656 - val_precision: 0.7836 - val_recall: 0.5492 - val_binary_accuracy: 0.7656\n",
      "Epoch 25/50\n",
      "138/138 [==============================] - 1s 9ms/step - loss: 0.1567 - accuracy: 0.9469 - precision: 0.9406 - recall: 0.9146 - binary_accuracy: 0.9469 - val_loss: 0.5515 - val_accuracy: 0.7640 - val_precision: 0.7791 - val_recall: 0.5492 - val_binary_accuracy: 0.7640\n",
      "Epoch 26/50\n",
      "138/138 [==============================] - 1s 10ms/step - loss: 0.1474 - accuracy: 0.9496 - precision: 0.9400 - recall: 0.9232 - binary_accuracy: 0.9496 - val_loss: 0.5718 - val_accuracy: 0.7671 - val_precision: 0.8025 - val_recall: 0.5328 - val_binary_accuracy: 0.7671\n",
      "Epoch 27/50\n",
      "138/138 [==============================] - 1s 9ms/step - loss: 0.1469 - accuracy: 0.9540 - precision: 0.9507 - recall: 0.9238 - binary_accuracy: 0.9540 - val_loss: 0.5536 - val_accuracy: 0.7624 - val_precision: 0.7811 - val_recall: 0.5410 - val_binary_accuracy: 0.7624\n",
      "Epoch 28/50\n",
      "138/138 [==============================] - 1s 9ms/step - loss: 0.1366 - accuracy: 0.9558 - precision: 0.9544 - recall: 0.9251 - binary_accuracy: 0.9558 - val_loss: 0.6615 - val_accuracy: 0.7608 - val_precision: 0.8052 - val_recall: 0.5082 - val_binary_accuracy: 0.7608\n",
      "Epoch 29/50\n",
      "138/138 [==============================] - 1s 9ms/step - loss: 0.1570 - accuracy: 0.9496 - precision: 0.9378 - recall: 0.9257 - binary_accuracy: 0.9496 - val_loss: 0.5108 - val_accuracy: 0.7847 - val_precision: 0.7884 - val_recall: 0.6107 - val_binary_accuracy: 0.7847\n",
      "Epoch 30/50\n",
      "138/138 [==============================] - 1s 9ms/step - loss: 0.1317 - accuracy: 0.9594 - precision: 0.9554 - recall: 0.9343 - binary_accuracy: 0.9594 - val_loss: 0.5608 - val_accuracy: 0.7719 - val_precision: 0.7919 - val_recall: 0.5615 - val_binary_accuracy: 0.7719\n",
      "Epoch 31/50\n",
      "138/138 [==============================] - 1s 9ms/step - loss: 0.1290 - accuracy: 0.9601 - precision: 0.9515 - recall: 0.9404 - binary_accuracy: 0.9601 - val_loss: 0.5880 - val_accuracy: 0.7512 - val_precision: 0.7157 - val_recall: 0.5984 - val_binary_accuracy: 0.7512\n",
      "Epoch 32/50\n",
      "138/138 [==============================] - 1s 9ms/step - loss: 0.1360 - accuracy: 0.9599 - precision: 0.9607 - recall: 0.9300 - binary_accuracy: 0.9599 - val_loss: 0.5347 - val_accuracy: 0.7783 - val_precision: 0.7807 - val_recall: 0.5984 - val_binary_accuracy: 0.7783\n",
      "Epoch 33/50\n",
      "138/138 [==============================] - 1s 9ms/step - loss: 0.1248 - accuracy: 0.9642 - precision: 0.9549 - recall: 0.9484 - binary_accuracy: 0.9642 - val_loss: 0.5672 - val_accuracy: 0.7656 - val_precision: 0.7939 - val_recall: 0.5369 - val_binary_accuracy: 0.7656\n",
      "Epoch 34/50\n",
      "138/138 [==============================] - 1s 9ms/step - loss: 0.1563 - accuracy: 0.9515 - precision: 0.9591 - recall: 0.9079 - binary_accuracy: 0.9515 - val_loss: 0.6561 - val_accuracy: 0.7352 - val_precision: 0.7321 - val_recall: 0.5041 - val_binary_accuracy: 0.7352\n",
      "Epoch 35/50\n",
      "138/138 [==============================] - 1s 9ms/step - loss: 0.1275 - accuracy: 0.9642 - precision: 0.9560 - recall: 0.9472 - binary_accuracy: 0.9642 - val_loss: 0.7267 - val_accuracy: 0.7368 - val_precision: 0.7687 - val_recall: 0.4631 - val_binary_accuracy: 0.7368\n",
      "Epoch 36/50\n",
      "138/138 [==============================] - 1s 9ms/step - loss: 0.1331 - accuracy: 0.9660 - precision: 0.9568 - recall: 0.9515 - binary_accuracy: 0.9660 - val_loss: 0.6487 - val_accuracy: 0.7448 - val_precision: 0.7658 - val_recall: 0.4959 - val_binary_accuracy: 0.7448\n",
      "Epoch 37/50\n",
      "138/138 [==============================] - 1s 9ms/step - loss: 0.1187 - accuracy: 0.9699 - precision: 0.9606 - recall: 0.9582 - binary_accuracy: 0.9699 - val_loss: 0.6505 - val_accuracy: 0.7416 - val_precision: 0.7595 - val_recall: 0.4918 - val_binary_accuracy: 0.7416\n",
      "Epoch 38/50\n",
      " 13/138 [=>............................] - ETA: 1s - loss: 0.1253 - accuracy: 0.9736 - precision: 0.9521 - recall: 0.9720 - binary_accuracy: 0.9736"
     ]
    },
    {
     "ename": "KeyboardInterrupt",
     "evalue": "",
     "output_type": "error",
     "traceback": [
      "\u001b[0;31m---------------------------------------------------------------------------\u001b[0m",
      "\u001b[0;31mKeyboardInterrupt\u001b[0m                         Traceback (most recent call last)",
      "Cell \u001b[0;32mIn[34], line 1\u001b[0m\n\u001b[0;32m----> 1\u001b[0m history \u001b[38;5;241m=\u001b[39m \u001b[43mmodel\u001b[49m\u001b[38;5;241;43m.\u001b[39;49m\u001b[43mfit\u001b[49m\u001b[43m(\u001b[49m\u001b[43mX_train\u001b[49m\u001b[43m,\u001b[49m\u001b[43m \u001b[49m\u001b[43my_train\u001b[49m\u001b[43m,\u001b[49m\u001b[43m \u001b[49m\u001b[43mvalidation_data\u001b[49m\u001b[38;5;241;43m=\u001b[39;49m\u001b[43m(\u001b[49m\u001b[43mX_val\u001b[49m\u001b[43m,\u001b[49m\u001b[43m \u001b[49m\u001b[43my_val\u001b[49m\u001b[43m)\u001b[49m\u001b[43m,\u001b[49m\u001b[43m \u001b[49m\u001b[43mepochs\u001b[49m\u001b[38;5;241;43m=\u001b[39;49m\u001b[38;5;241;43m50\u001b[39;49m\u001b[43m,\u001b[49m\u001b[43m \u001b[49m\u001b[43mbatch_size\u001b[49m\u001b[38;5;241;43m=\u001b[39;49m\u001b[38;5;241;43m32\u001b[39;49m\u001b[43m)\u001b[49m\n\u001b[1;32m      3\u001b[0m \u001b[38;5;66;03m# plot the training and validation loss and binary accuracy\u001b[39;00m\n\u001b[1;32m      4\u001b[0m plt\u001b[38;5;241m.\u001b[39mplot(history\u001b[38;5;241m.\u001b[39mhistory[\u001b[38;5;124m'\u001b[39m\u001b[38;5;124mloss\u001b[39m\u001b[38;5;124m'\u001b[39m])\n",
      "File \u001b[0;32m~/anaconda3/envs/FYP/lib/python3.9/site-packages/keras/utils/traceback_utils.py:65\u001b[0m, in \u001b[0;36mfilter_traceback.<locals>.error_handler\u001b[0;34m(*args, **kwargs)\u001b[0m\n\u001b[1;32m     63\u001b[0m filtered_tb \u001b[38;5;241m=\u001b[39m \u001b[38;5;28;01mNone\u001b[39;00m\n\u001b[1;32m     64\u001b[0m \u001b[38;5;28;01mtry\u001b[39;00m:\n\u001b[0;32m---> 65\u001b[0m     \u001b[38;5;28;01mreturn\u001b[39;00m \u001b[43mfn\u001b[49m\u001b[43m(\u001b[49m\u001b[38;5;241;43m*\u001b[39;49m\u001b[43margs\u001b[49m\u001b[43m,\u001b[49m\u001b[43m \u001b[49m\u001b[38;5;241;43m*\u001b[39;49m\u001b[38;5;241;43m*\u001b[39;49m\u001b[43mkwargs\u001b[49m\u001b[43m)\u001b[49m\n\u001b[1;32m     66\u001b[0m \u001b[38;5;28;01mexcept\u001b[39;00m \u001b[38;5;167;01mException\u001b[39;00m \u001b[38;5;28;01mas\u001b[39;00m e:\n\u001b[1;32m     67\u001b[0m     filtered_tb \u001b[38;5;241m=\u001b[39m _process_traceback_frames(e\u001b[38;5;241m.\u001b[39m__traceback__)\n",
      "File \u001b[0;32m~/anaconda3/envs/FYP/lib/python3.9/site-packages/keras/engine/training.py:1650\u001b[0m, in \u001b[0;36mModel.fit\u001b[0;34m(self, x, y, batch_size, epochs, verbose, callbacks, validation_split, validation_data, shuffle, class_weight, sample_weight, initial_epoch, steps_per_epoch, validation_steps, validation_batch_size, validation_freq, max_queue_size, workers, use_multiprocessing)\u001b[0m\n\u001b[1;32m   1642\u001b[0m \u001b[38;5;28;01mwith\u001b[39;00m tf\u001b[38;5;241m.\u001b[39mprofiler\u001b[38;5;241m.\u001b[39mexperimental\u001b[38;5;241m.\u001b[39mTrace(\n\u001b[1;32m   1643\u001b[0m     \u001b[38;5;124m\"\u001b[39m\u001b[38;5;124mtrain\u001b[39m\u001b[38;5;124m\"\u001b[39m,\n\u001b[1;32m   1644\u001b[0m     epoch_num\u001b[38;5;241m=\u001b[39mepoch,\n\u001b[0;32m   (...)\u001b[0m\n\u001b[1;32m   1647\u001b[0m     _r\u001b[38;5;241m=\u001b[39m\u001b[38;5;241m1\u001b[39m,\n\u001b[1;32m   1648\u001b[0m ):\n\u001b[1;32m   1649\u001b[0m     callbacks\u001b[38;5;241m.\u001b[39mon_train_batch_begin(step)\n\u001b[0;32m-> 1650\u001b[0m     tmp_logs \u001b[38;5;241m=\u001b[39m \u001b[38;5;28;43mself\u001b[39;49m\u001b[38;5;241;43m.\u001b[39;49m\u001b[43mtrain_function\u001b[49m\u001b[43m(\u001b[49m\u001b[43miterator\u001b[49m\u001b[43m)\u001b[49m\n\u001b[1;32m   1651\u001b[0m     \u001b[38;5;28;01mif\u001b[39;00m data_handler\u001b[38;5;241m.\u001b[39mshould_sync:\n\u001b[1;32m   1652\u001b[0m         context\u001b[38;5;241m.\u001b[39masync_wait()\n",
      "File \u001b[0;32m~/anaconda3/envs/FYP/lib/python3.9/site-packages/tensorflow/python/util/traceback_utils.py:150\u001b[0m, in \u001b[0;36mfilter_traceback.<locals>.error_handler\u001b[0;34m(*args, **kwargs)\u001b[0m\n\u001b[1;32m    148\u001b[0m filtered_tb \u001b[38;5;241m=\u001b[39m \u001b[38;5;28;01mNone\u001b[39;00m\n\u001b[1;32m    149\u001b[0m \u001b[38;5;28;01mtry\u001b[39;00m:\n\u001b[0;32m--> 150\u001b[0m   \u001b[38;5;28;01mreturn\u001b[39;00m \u001b[43mfn\u001b[49m\u001b[43m(\u001b[49m\u001b[38;5;241;43m*\u001b[39;49m\u001b[43margs\u001b[49m\u001b[43m,\u001b[49m\u001b[43m \u001b[49m\u001b[38;5;241;43m*\u001b[39;49m\u001b[38;5;241;43m*\u001b[39;49m\u001b[43mkwargs\u001b[49m\u001b[43m)\u001b[49m\n\u001b[1;32m    151\u001b[0m \u001b[38;5;28;01mexcept\u001b[39;00m \u001b[38;5;167;01mException\u001b[39;00m \u001b[38;5;28;01mas\u001b[39;00m e:\n\u001b[1;32m    152\u001b[0m   filtered_tb \u001b[38;5;241m=\u001b[39m _process_traceback_frames(e\u001b[38;5;241m.\u001b[39m__traceback__)\n",
      "File \u001b[0;32m~/anaconda3/envs/FYP/lib/python3.9/site-packages/tensorflow/python/eager/polymorphic_function/polymorphic_function.py:880\u001b[0m, in \u001b[0;36mFunction.__call__\u001b[0;34m(self, *args, **kwds)\u001b[0m\n\u001b[1;32m    877\u001b[0m compiler \u001b[38;5;241m=\u001b[39m \u001b[38;5;124m\"\u001b[39m\u001b[38;5;124mxla\u001b[39m\u001b[38;5;124m\"\u001b[39m \u001b[38;5;28;01mif\u001b[39;00m \u001b[38;5;28mself\u001b[39m\u001b[38;5;241m.\u001b[39m_jit_compile \u001b[38;5;28;01melse\u001b[39;00m \u001b[38;5;124m\"\u001b[39m\u001b[38;5;124mnonXla\u001b[39m\u001b[38;5;124m\"\u001b[39m\n\u001b[1;32m    879\u001b[0m \u001b[38;5;28;01mwith\u001b[39;00m OptionalXlaContext(\u001b[38;5;28mself\u001b[39m\u001b[38;5;241m.\u001b[39m_jit_compile):\n\u001b[0;32m--> 880\u001b[0m   result \u001b[38;5;241m=\u001b[39m \u001b[38;5;28;43mself\u001b[39;49m\u001b[38;5;241;43m.\u001b[39;49m\u001b[43m_call\u001b[49m\u001b[43m(\u001b[49m\u001b[38;5;241;43m*\u001b[39;49m\u001b[43margs\u001b[49m\u001b[43m,\u001b[49m\u001b[43m \u001b[49m\u001b[38;5;241;43m*\u001b[39;49m\u001b[38;5;241;43m*\u001b[39;49m\u001b[43mkwds\u001b[49m\u001b[43m)\u001b[49m\n\u001b[1;32m    882\u001b[0m new_tracing_count \u001b[38;5;241m=\u001b[39m \u001b[38;5;28mself\u001b[39m\u001b[38;5;241m.\u001b[39mexperimental_get_tracing_count()\n\u001b[1;32m    883\u001b[0m without_tracing \u001b[38;5;241m=\u001b[39m (tracing_count \u001b[38;5;241m==\u001b[39m new_tracing_count)\n",
      "File \u001b[0;32m~/anaconda3/envs/FYP/lib/python3.9/site-packages/tensorflow/python/eager/polymorphic_function/polymorphic_function.py:912\u001b[0m, in \u001b[0;36mFunction._call\u001b[0;34m(self, *args, **kwds)\u001b[0m\n\u001b[1;32m    909\u001b[0m   \u001b[38;5;28mself\u001b[39m\u001b[38;5;241m.\u001b[39m_lock\u001b[38;5;241m.\u001b[39mrelease()\n\u001b[1;32m    910\u001b[0m   \u001b[38;5;66;03m# In this case we have created variables on the first call, so we run the\u001b[39;00m\n\u001b[1;32m    911\u001b[0m   \u001b[38;5;66;03m# defunned version which is guaranteed to never create variables.\u001b[39;00m\n\u001b[0;32m--> 912\u001b[0m   \u001b[38;5;28;01mreturn\u001b[39;00m \u001b[38;5;28;43mself\u001b[39;49m\u001b[38;5;241;43m.\u001b[39;49m\u001b[43m_no_variable_creation_fn\u001b[49m\u001b[43m(\u001b[49m\u001b[38;5;241;43m*\u001b[39;49m\u001b[43margs\u001b[49m\u001b[43m,\u001b[49m\u001b[43m \u001b[49m\u001b[38;5;241;43m*\u001b[39;49m\u001b[38;5;241;43m*\u001b[39;49m\u001b[43mkwds\u001b[49m\u001b[43m)\u001b[49m  \u001b[38;5;66;03m# pylint: disable=not-callable\u001b[39;00m\n\u001b[1;32m    913\u001b[0m \u001b[38;5;28;01melif\u001b[39;00m \u001b[38;5;28mself\u001b[39m\u001b[38;5;241m.\u001b[39m_variable_creation_fn \u001b[38;5;129;01mis\u001b[39;00m \u001b[38;5;129;01mnot\u001b[39;00m \u001b[38;5;28;01mNone\u001b[39;00m:\n\u001b[1;32m    914\u001b[0m   \u001b[38;5;66;03m# Release the lock early so that multiple threads can perform the call\u001b[39;00m\n\u001b[1;32m    915\u001b[0m   \u001b[38;5;66;03m# in parallel.\u001b[39;00m\n\u001b[1;32m    916\u001b[0m   \u001b[38;5;28mself\u001b[39m\u001b[38;5;241m.\u001b[39m_lock\u001b[38;5;241m.\u001b[39mrelease()\n",
      "File \u001b[0;32m~/anaconda3/envs/FYP/lib/python3.9/site-packages/tensorflow/python/eager/polymorphic_function/tracing_compiler.py:134\u001b[0m, in \u001b[0;36mTracingCompiler.__call__\u001b[0;34m(self, *args, **kwargs)\u001b[0m\n\u001b[1;32m    131\u001b[0m \u001b[38;5;28;01mwith\u001b[39;00m \u001b[38;5;28mself\u001b[39m\u001b[38;5;241m.\u001b[39m_lock:\n\u001b[1;32m    132\u001b[0m   (concrete_function,\n\u001b[1;32m    133\u001b[0m    filtered_flat_args) \u001b[38;5;241m=\u001b[39m \u001b[38;5;28mself\u001b[39m\u001b[38;5;241m.\u001b[39m_maybe_define_function(args, kwargs)\n\u001b[0;32m--> 134\u001b[0m \u001b[38;5;28;01mreturn\u001b[39;00m \u001b[43mconcrete_function\u001b[49m\u001b[38;5;241;43m.\u001b[39;49m\u001b[43m_call_flat\u001b[49m\u001b[43m(\u001b[49m\n\u001b[1;32m    135\u001b[0m \u001b[43m    \u001b[49m\u001b[43mfiltered_flat_args\u001b[49m\u001b[43m,\u001b[49m\u001b[43m \u001b[49m\u001b[43mcaptured_inputs\u001b[49m\u001b[38;5;241;43m=\u001b[39;49m\u001b[43mconcrete_function\u001b[49m\u001b[38;5;241;43m.\u001b[39;49m\u001b[43mcaptured_inputs\u001b[49m\u001b[43m)\u001b[49m\n",
      "File \u001b[0;32m~/anaconda3/envs/FYP/lib/python3.9/site-packages/tensorflow/python/eager/polymorphic_function/monomorphic_function.py:1745\u001b[0m, in \u001b[0;36mConcreteFunction._call_flat\u001b[0;34m(self, args, captured_inputs, cancellation_manager)\u001b[0m\n\u001b[1;32m   1741\u001b[0m possible_gradient_type \u001b[38;5;241m=\u001b[39m gradients_util\u001b[38;5;241m.\u001b[39mPossibleTapeGradientTypes(args)\n\u001b[1;32m   1742\u001b[0m \u001b[38;5;28;01mif\u001b[39;00m (possible_gradient_type \u001b[38;5;241m==\u001b[39m gradients_util\u001b[38;5;241m.\u001b[39mPOSSIBLE_GRADIENT_TYPES_NONE\n\u001b[1;32m   1743\u001b[0m     \u001b[38;5;129;01mand\u001b[39;00m executing_eagerly):\n\u001b[1;32m   1744\u001b[0m   \u001b[38;5;66;03m# No tape is watching; skip to running the function.\u001b[39;00m\n\u001b[0;32m-> 1745\u001b[0m   \u001b[38;5;28;01mreturn\u001b[39;00m \u001b[38;5;28mself\u001b[39m\u001b[38;5;241m.\u001b[39m_build_call_outputs(\u001b[38;5;28;43mself\u001b[39;49m\u001b[38;5;241;43m.\u001b[39;49m\u001b[43m_inference_function\u001b[49m\u001b[38;5;241;43m.\u001b[39;49m\u001b[43mcall\u001b[49m\u001b[43m(\u001b[49m\n\u001b[1;32m   1746\u001b[0m \u001b[43m      \u001b[49m\u001b[43mctx\u001b[49m\u001b[43m,\u001b[49m\u001b[43m \u001b[49m\u001b[43margs\u001b[49m\u001b[43m,\u001b[49m\u001b[43m \u001b[49m\u001b[43mcancellation_manager\u001b[49m\u001b[38;5;241;43m=\u001b[39;49m\u001b[43mcancellation_manager\u001b[49m\u001b[43m)\u001b[49m)\n\u001b[1;32m   1747\u001b[0m forward_backward \u001b[38;5;241m=\u001b[39m \u001b[38;5;28mself\u001b[39m\u001b[38;5;241m.\u001b[39m_select_forward_and_backward_functions(\n\u001b[1;32m   1748\u001b[0m     args,\n\u001b[1;32m   1749\u001b[0m     possible_gradient_type,\n\u001b[1;32m   1750\u001b[0m     executing_eagerly)\n\u001b[1;32m   1751\u001b[0m forward_function, args_with_tangents \u001b[38;5;241m=\u001b[39m forward_backward\u001b[38;5;241m.\u001b[39mforward()\n",
      "File \u001b[0;32m~/anaconda3/envs/FYP/lib/python3.9/site-packages/tensorflow/python/eager/polymorphic_function/monomorphic_function.py:378\u001b[0m, in \u001b[0;36m_EagerDefinedFunction.call\u001b[0;34m(self, ctx, args, cancellation_manager)\u001b[0m\n\u001b[1;32m    376\u001b[0m \u001b[38;5;28;01mwith\u001b[39;00m _InterpolateFunctionError(\u001b[38;5;28mself\u001b[39m):\n\u001b[1;32m    377\u001b[0m   \u001b[38;5;28;01mif\u001b[39;00m cancellation_manager \u001b[38;5;129;01mis\u001b[39;00m \u001b[38;5;28;01mNone\u001b[39;00m:\n\u001b[0;32m--> 378\u001b[0m     outputs \u001b[38;5;241m=\u001b[39m \u001b[43mexecute\u001b[49m\u001b[38;5;241;43m.\u001b[39;49m\u001b[43mexecute\u001b[49m\u001b[43m(\u001b[49m\n\u001b[1;32m    379\u001b[0m \u001b[43m        \u001b[49m\u001b[38;5;28;43mstr\u001b[39;49m\u001b[43m(\u001b[49m\u001b[38;5;28;43mself\u001b[39;49m\u001b[38;5;241;43m.\u001b[39;49m\u001b[43msignature\u001b[49m\u001b[38;5;241;43m.\u001b[39;49m\u001b[43mname\u001b[49m\u001b[43m)\u001b[49m\u001b[43m,\u001b[49m\n\u001b[1;32m    380\u001b[0m \u001b[43m        \u001b[49m\u001b[43mnum_outputs\u001b[49m\u001b[38;5;241;43m=\u001b[39;49m\u001b[38;5;28;43mself\u001b[39;49m\u001b[38;5;241;43m.\u001b[39;49m\u001b[43m_num_outputs\u001b[49m\u001b[43m,\u001b[49m\n\u001b[1;32m    381\u001b[0m \u001b[43m        \u001b[49m\u001b[43minputs\u001b[49m\u001b[38;5;241;43m=\u001b[39;49m\u001b[43margs\u001b[49m\u001b[43m,\u001b[49m\n\u001b[1;32m    382\u001b[0m \u001b[43m        \u001b[49m\u001b[43mattrs\u001b[49m\u001b[38;5;241;43m=\u001b[39;49m\u001b[43mattrs\u001b[49m\u001b[43m,\u001b[49m\n\u001b[1;32m    383\u001b[0m \u001b[43m        \u001b[49m\u001b[43mctx\u001b[49m\u001b[38;5;241;43m=\u001b[39;49m\u001b[43mctx\u001b[49m\u001b[43m)\u001b[49m\n\u001b[1;32m    384\u001b[0m   \u001b[38;5;28;01melse\u001b[39;00m:\n\u001b[1;32m    385\u001b[0m     outputs \u001b[38;5;241m=\u001b[39m execute\u001b[38;5;241m.\u001b[39mexecute_with_cancellation(\n\u001b[1;32m    386\u001b[0m         \u001b[38;5;28mstr\u001b[39m(\u001b[38;5;28mself\u001b[39m\u001b[38;5;241m.\u001b[39msignature\u001b[38;5;241m.\u001b[39mname),\n\u001b[1;32m    387\u001b[0m         num_outputs\u001b[38;5;241m=\u001b[39m\u001b[38;5;28mself\u001b[39m\u001b[38;5;241m.\u001b[39m_num_outputs,\n\u001b[0;32m   (...)\u001b[0m\n\u001b[1;32m    390\u001b[0m         ctx\u001b[38;5;241m=\u001b[39mctx,\n\u001b[1;32m    391\u001b[0m         cancellation_manager\u001b[38;5;241m=\u001b[39mcancellation_manager)\n",
      "File \u001b[0;32m~/anaconda3/envs/FYP/lib/python3.9/site-packages/tensorflow/python/eager/execute.py:52\u001b[0m, in \u001b[0;36mquick_execute\u001b[0;34m(op_name, num_outputs, inputs, attrs, ctx, name)\u001b[0m\n\u001b[1;32m     50\u001b[0m \u001b[38;5;28;01mtry\u001b[39;00m:\n\u001b[1;32m     51\u001b[0m   ctx\u001b[38;5;241m.\u001b[39mensure_initialized()\n\u001b[0;32m---> 52\u001b[0m   tensors \u001b[38;5;241m=\u001b[39m \u001b[43mpywrap_tfe\u001b[49m\u001b[38;5;241;43m.\u001b[39;49m\u001b[43mTFE_Py_Execute\u001b[49m\u001b[43m(\u001b[49m\u001b[43mctx\u001b[49m\u001b[38;5;241;43m.\u001b[39;49m\u001b[43m_handle\u001b[49m\u001b[43m,\u001b[49m\u001b[43m \u001b[49m\u001b[43mdevice_name\u001b[49m\u001b[43m,\u001b[49m\u001b[43m \u001b[49m\u001b[43mop_name\u001b[49m\u001b[43m,\u001b[49m\n\u001b[1;32m     53\u001b[0m \u001b[43m                                      \u001b[49m\u001b[43minputs\u001b[49m\u001b[43m,\u001b[49m\u001b[43m \u001b[49m\u001b[43mattrs\u001b[49m\u001b[43m,\u001b[49m\u001b[43m \u001b[49m\u001b[43mnum_outputs\u001b[49m\u001b[43m)\u001b[49m\n\u001b[1;32m     54\u001b[0m \u001b[38;5;28;01mexcept\u001b[39;00m core\u001b[38;5;241m.\u001b[39m_NotOkStatusException \u001b[38;5;28;01mas\u001b[39;00m e:\n\u001b[1;32m     55\u001b[0m   \u001b[38;5;28;01mif\u001b[39;00m name \u001b[38;5;129;01mis\u001b[39;00m \u001b[38;5;129;01mnot\u001b[39;00m \u001b[38;5;28;01mNone\u001b[39;00m:\n",
      "\u001b[0;31mKeyboardInterrupt\u001b[0m: "
     ]
    }
   ],
   "source": [
    "history = model.fit(X_train, y_train, validation_data=(X_val, y_val), epochs=50, batch_size=32)\n",
    "\n",
    "# plot the training and validation loss and binary accuracy\n",
    "plt.plot(history.history['loss'])\n",
    "plt.plot(history.history['val_loss'])\n",
    "plt.plot(history.history['binary_accuracy'])\n",
    "plt.plot(history.history['val_binary_accuracy'])\n",
    "plt.title('Model Loss and Accuracy')\n",
    "plt.ylabel('Loss/Accuracy')\n",
    "plt.xlabel('Epoch')\n",
    "plt.legend(['Train loss', 'Val loss', 'Train accuracy', 'validation accuracy'], loc='upper right')"
   ]
  },
  {
   "cell_type": "code",
   "execution_count": 60,
   "metadata": {
    "metadata": {}
   },
   "outputs": [
    {
     "name": "stdout",
     "output_type": "stream",
     "text": [
      "40/40 [==============================] - 0s 9ms/step - loss: 1.0998 - accuracy: 0.8206 - precision: 0.7521 - recall: 0.7699 - binary_accuracy: 0.8206\n",
      "Loss: 1.0998156070709229\n",
      "Accuracy: 0.820574164390564\n",
      "Precision: 0.7521008253097534\n",
      "Recall: 0.7698924541473389\n",
      "Binary Accuracy: 0.820574164390564\n",
      "F1 Score: 0.7608926504202598\n"
     ]
    }
   ],
   "source": [
    "# evaluate the model\n",
    "loss, accuracy, precision, recall, binary_accuracy = model.evaluate(X_test, y_test)\n",
    "\n",
    "print(\"Loss:\", loss)\n",
    "print(\"Accuracy:\", accuracy)\n",
    "print(\"Precision:\", precision)\n",
    "print(\"Recall:\", recall)\n",
    "print(\"Binary Accuracy:\", binary_accuracy)\n",
    "print(\"F1 Score:\", 2 * (precision * recall) / (precision + recall))"
   ]
  },
  {
   "cell_type": "code",
   "execution_count": 61,
   "metadata": {
    "metadata": {}
   },
   "outputs": [
    {
     "name": "stdout",
     "output_type": "stream",
     "text": [
      "40/40 [==============================] - 1s 9ms/step - loss: 4.7389 - accuracy: 0.4912 - precision: 0.5189 - recall: 0.3765 - binary_accuracy: 0.4912\n",
      "Loss: 4.738865375518799\n",
      "Accuracy: 0.4912280738353729\n",
      "Precision: 0.5189075469970703\n",
      "Recall: 0.3765243887901306\n",
      "Binary Accuracy: 0.4912280738353729\n",
      "F1 Score: 0.436395753072828\n"
     ]
    }
   ],
   "source": [
    "# define model that randomly guesses\n",
    "def random_model(X):\n",
    "    return np.random.randint(0, 2, X.shape[0])\n",
    "\n",
    "# evaluate the random model\n",
    "random_labels = random_model(X_test)\n",
    "loss, accuracy, precision, recall, binary_accuracy = model.evaluate(X_test, random_labels)\n",
    "\n",
    "print(\"Loss:\", loss)\n",
    "print(\"Accuracy:\", accuracy)\n",
    "print(\"Precision:\", precision)\n",
    "print(\"Recall:\", recall)\n",
    "print(\"Binary Accuracy:\", binary_accuracy)\n",
    "print(\"F1 Score:\", 2 * (precision * recall) / (precision + recall))\n"
   ]
  }
 ],
 "metadata": {
  "kernelspec": {
   "display_name": "FYP",
   "language": "python",
   "name": "python3"
  },
  "language_info": {
   "codemirror_mode": {
    "name": "ipython",
    "version": 3
   },
   "file_extension": ".py",
   "mimetype": "text/x-python",
   "name": "python",
   "nbconvert_exporter": "python",
   "pygments_lexer": "ipython3",
   "version": "3.9.18"
  }
 },
 "nbformat": 4,
 "nbformat_minor": 2
}
